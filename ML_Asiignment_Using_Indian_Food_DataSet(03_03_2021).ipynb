{
  "nbformat": 4,
  "nbformat_minor": 0,
  "metadata": {
    "colab": {
      "name": "ML_Asiignment_Using_DataSet(03-03-2021).ipynb",
      "provenance": [],
      "collapsed_sections": [],
      "toc_visible": true,
      "authorship_tag": "ABX9TyOFjIhAxoGkJlRM+dGZlDHS"
    },
    "kernelspec": {
      "name": "python3",
      "display_name": "Python 3"
    }
  },
  "cells": [
    {
      "cell_type": "markdown",
      "metadata": {
        "id": "KpPb91AISxlD"
      },
      "source": [
        "# **Analysis of Indian Food**"
      ]
    },
    {
      "cell_type": "code",
      "metadata": {
        "colab": {
          "base_uri": "https://localhost:8080/"
        },
        "id": "CvkxxjdlEIqK",
        "outputId": "0576856a-db80-400a-864b-2d98ea2a1e99"
      },
      "source": [
        "import matplotlib.pyplot as plt\r\n",
        "import pandas as pd\r\n",
        "\r\n",
        "# load Data set\r\n",
        "data = pd.read_csv('indian_food.csv')\r\n",
        "print(data)"
      ],
      "execution_count": null,
      "outputs": [
        {
          "output_type": "stream",
          "text": [
            "               name  ...      region\n",
            "0        Balu shahi  ...        East\n",
            "1            Boondi  ...        West\n",
            "2    Gajar ka halwa  ...       North\n",
            "3            Ghevar  ...        West\n",
            "4       Gulab jamun  ...        East\n",
            "..              ...  ...         ...\n",
            "250       Til Pitha  ...  North East\n",
            "251         Bebinca  ...        West\n",
            "252          Shufta  ...       North\n",
            "253       Mawa Bati  ...     Central\n",
            "254          Pinaca  ...        West\n",
            "\n",
            "[255 rows x 9 columns]\n"
          ],
          "name": "stdout"
        }
      ]
    },
    {
      "cell_type": "code",
      "metadata": {
        "colab": {
          "base_uri": "https://localhost:8080/"
        },
        "id": "dTfAdiUyIBmq",
        "outputId": "d013ace3-20e8-4684-8b41-bec2759b592a"
      },
      "source": [
        "# Headers of DataSet\r\n",
        "data.head"
      ],
      "execution_count": null,
      "outputs": [
        {
          "output_type": "execute_result",
          "data": {
            "text/plain": [
              "<bound method NDFrame.head of                name  ...      region\n",
              "0        Balu shahi  ...        East\n",
              "1            Boondi  ...        West\n",
              "2    Gajar ka halwa  ...       North\n",
              "3            Ghevar  ...        West\n",
              "4       Gulab jamun  ...        East\n",
              "..              ...  ...         ...\n",
              "250       Til Pitha  ...  North East\n",
              "251         Bebinca  ...        West\n",
              "252          Shufta  ...       North\n",
              "253       Mawa Bati  ...     Central\n",
              "254          Pinaca  ...        West\n",
              "\n",
              "[255 rows x 9 columns]>"
            ]
          },
          "metadata": {
            "tags": []
          },
          "execution_count": 2
        }
      ]
    },
    {
      "cell_type": "code",
      "metadata": {
        "colab": {
          "base_uri": "https://localhost:8080/"
        },
        "id": "5ZxImLE_IiJr",
        "outputId": "a957d9bb-0df6-4756-a5b8-762085be2683"
      },
      "source": [
        "# # show the size of data set\r\n",
        "data.size"
      ],
      "execution_count": null,
      "outputs": [
        {
          "output_type": "execute_result",
          "data": {
            "text/plain": [
              "2295"
            ]
          },
          "metadata": {
            "tags": []
          },
          "execution_count": 3
        }
      ]
    },
    {
      "cell_type": "code",
      "metadata": {
        "colab": {
          "base_uri": "https://localhost:8080/"
        },
        "id": "2812zFa8IiP1",
        "outputId": "6e0a0852-dab2-47d0-c7f1-98d99c96c1de"
      },
      "source": [
        "# show the description of data set\r\n",
        "data.info()"
      ],
      "execution_count": null,
      "outputs": [
        {
          "output_type": "stream",
          "text": [
            "<class 'pandas.core.frame.DataFrame'>\n",
            "RangeIndex: 255 entries, 0 to 254\n",
            "Data columns (total 9 columns):\n",
            " #   Column          Non-Null Count  Dtype \n",
            "---  ------          --------------  ----- \n",
            " 0   name            255 non-null    object\n",
            " 1   ingredients     255 non-null    object\n",
            " 2   diet            255 non-null    object\n",
            " 3   prep_time       255 non-null    int64 \n",
            " 4   cook_time       255 non-null    int64 \n",
            " 5   flavor_profile  255 non-null    object\n",
            " 6   course          255 non-null    object\n",
            " 7   state           255 non-null    object\n",
            " 8   region          254 non-null    object\n",
            "dtypes: int64(2), object(7)\n",
            "memory usage: 18.1+ KB\n"
          ],
          "name": "stdout"
        }
      ]
    },
    {
      "cell_type": "code",
      "metadata": {
        "colab": {
          "base_uri": "https://localhost:8080/"
        },
        "id": "TA1Yivc3Ixrx",
        "outputId": "3d31749e-e380-4f69-8671-3067db5f6b97"
      },
      "source": [
        "# show the shape of data set(rows and columns)\r\n",
        "data.shape"
      ],
      "execution_count": null,
      "outputs": [
        {
          "output_type": "execute_result",
          "data": {
            "text/plain": [
              "(255, 9)"
            ]
          },
          "metadata": {
            "tags": []
          },
          "execution_count": 6
        }
      ]
    },
    {
      "cell_type": "code",
      "metadata": {
        "colab": {
          "base_uri": "https://localhost:8080/"
        },
        "id": "wxyFXcjOIwuh",
        "outputId": "36963550-81af-4be2-d026-23c16e46f7c1"
      },
      "source": [
        "# print all the column in data set\r\n",
        "data.columns"
      ],
      "execution_count": null,
      "outputs": [
        {
          "output_type": "execute_result",
          "data": {
            "text/plain": [
              "Index(['name', 'ingredients', 'diet', 'prep_time', 'cook_time',\n",
              "       'flavor_profile', 'course', 'state', 'region'],\n",
              "      dtype='object')"
            ]
          },
          "metadata": {
            "tags": []
          },
          "execution_count": 7
        }
      ]
    },
    {
      "cell_type": "code",
      "metadata": {
        "colab": {
          "base_uri": "https://localhost:8080/"
        },
        "id": "pt2YZo2lJNCr",
        "outputId": "411d72d1-8c07-48b5-9cd7-30a1ad172849"
      },
      "source": [
        "# find mean,max of particular column (cook_time)\r\n",
        "print(data['cook_time'].mean())"
      ],
      "execution_count": null,
      "outputs": [
        {
          "output_type": "stream",
          "text": [
            "34.529411764705884\n"
          ],
          "name": "stdout"
        }
      ]
    },
    {
      "cell_type": "code",
      "metadata": {
        "colab": {
          "base_uri": "https://localhost:8080/"
        },
        "id": "CFRz0yTDJkf3",
        "outputId": "06acee12-1ffa-42ec-8051-b1173283b21a"
      },
      "source": [
        "# Average cook_time Prize\r\n",
        "print(data['cook_time'].mean()/2)"
      ],
      "execution_count": null,
      "outputs": [
        {
          "output_type": "stream",
          "text": [
            "17.264705882352942\n"
          ],
          "name": "stdout"
        }
      ]
    },
    {
      "cell_type": "code",
      "metadata": {
        "colab": {
          "base_uri": "https://localhost:8080/"
        },
        "id": "Eel5WmJtJ3v0",
        "outputId": "25b28f78-4063-4ce5-fa65-d0f4db9e6552"
      },
      "source": [
        "# Minimum cook_time\r\n",
        "print(data['cook_time'].min())"
      ],
      "execution_count": null,
      "outputs": [
        {
          "output_type": "stream",
          "text": [
            "-1\n"
          ],
          "name": "stdout"
        }
      ]
    },
    {
      "cell_type": "code",
      "metadata": {
        "colab": {
          "base_uri": "https://localhost:8080/"
        },
        "id": "rfpeiyiMJvDY",
        "outputId": "44d7ad98-ef7c-49f5-a78e-1a425dd1f732"
      },
      "source": [
        "# Maximum cook_time\r\n",
        "print(data['cook_time'].max())"
      ],
      "execution_count": null,
      "outputs": [
        {
          "output_type": "stream",
          "text": [
            "720\n"
          ],
          "name": "stdout"
        }
      ]
    },
    {
      "cell_type": "code",
      "metadata": {
        "id": "aVWrLYtGKS_j",
        "colab": {
          "base_uri": "https://localhost:8080/",
          "height": 949
        },
        "outputId": "cddd305c-61f1-4160-faea-915345766c1a"
      },
      "source": [
        "# add new column in data set\r\n",
        "# Lets add a column\r\n",
        "df['NewCol'] = 5\r\n",
        "df"
      ],
      "execution_count": 12,
      "outputs": [
        {
          "output_type": "execute_result",
          "data": {
            "text/html": [
              "<div>\n",
              "<style scoped>\n",
              "    .dataframe tbody tr th:only-of-type {\n",
              "        vertical-align: middle;\n",
              "    }\n",
              "\n",
              "    .dataframe tbody tr th {\n",
              "        vertical-align: top;\n",
              "    }\n",
              "\n",
              "    .dataframe thead th {\n",
              "        text-align: right;\n",
              "    }\n",
              "</style>\n",
              "<table border=\"1\" class=\"dataframe\">\n",
              "  <thead>\n",
              "    <tr style=\"text-align: right;\">\n",
              "      <th></th>\n",
              "      <th>name</th>\n",
              "      <th>ingredients</th>\n",
              "      <th>diet</th>\n",
              "      <th>prep_time</th>\n",
              "      <th>cook_time</th>\n",
              "      <th>flavor_profile</th>\n",
              "      <th>course</th>\n",
              "      <th>state</th>\n",
              "      <th>region</th>\n",
              "      <th>NewCol</th>\n",
              "    </tr>\n",
              "  </thead>\n",
              "  <tbody>\n",
              "    <tr>\n",
              "      <th>0</th>\n",
              "      <td>Balu shahi</td>\n",
              "      <td>Maida flour, yogurt, oil, sugar</td>\n",
              "      <td>vegetarian</td>\n",
              "      <td>45</td>\n",
              "      <td>25</td>\n",
              "      <td>sweet</td>\n",
              "      <td>dessert</td>\n",
              "      <td>West Bengal</td>\n",
              "      <td>East</td>\n",
              "      <td>5</td>\n",
              "    </tr>\n",
              "    <tr>\n",
              "      <th>1</th>\n",
              "      <td>Boondi</td>\n",
              "      <td>Gram flour, ghee, sugar</td>\n",
              "      <td>vegetarian</td>\n",
              "      <td>80</td>\n",
              "      <td>30</td>\n",
              "      <td>sweet</td>\n",
              "      <td>dessert</td>\n",
              "      <td>Rajasthan</td>\n",
              "      <td>West</td>\n",
              "      <td>5</td>\n",
              "    </tr>\n",
              "    <tr>\n",
              "      <th>2</th>\n",
              "      <td>Gajar ka halwa</td>\n",
              "      <td>Carrots, milk, sugar, ghee, cashews, raisins</td>\n",
              "      <td>vegetarian</td>\n",
              "      <td>15</td>\n",
              "      <td>60</td>\n",
              "      <td>sweet</td>\n",
              "      <td>dessert</td>\n",
              "      <td>Punjab</td>\n",
              "      <td>North</td>\n",
              "      <td>5</td>\n",
              "    </tr>\n",
              "    <tr>\n",
              "      <th>3</th>\n",
              "      <td>Ghevar</td>\n",
              "      <td>Flour, ghee, kewra, milk, clarified butter, su...</td>\n",
              "      <td>vegetarian</td>\n",
              "      <td>15</td>\n",
              "      <td>30</td>\n",
              "      <td>sweet</td>\n",
              "      <td>dessert</td>\n",
              "      <td>Rajasthan</td>\n",
              "      <td>West</td>\n",
              "      <td>5</td>\n",
              "    </tr>\n",
              "    <tr>\n",
              "      <th>4</th>\n",
              "      <td>Gulab jamun</td>\n",
              "      <td>Milk powder, plain flour, baking powder, ghee,...</td>\n",
              "      <td>vegetarian</td>\n",
              "      <td>15</td>\n",
              "      <td>40</td>\n",
              "      <td>sweet</td>\n",
              "      <td>dessert</td>\n",
              "      <td>West Bengal</td>\n",
              "      <td>East</td>\n",
              "      <td>5</td>\n",
              "    </tr>\n",
              "    <tr>\n",
              "      <th>...</th>\n",
              "      <td>...</td>\n",
              "      <td>...</td>\n",
              "      <td>...</td>\n",
              "      <td>...</td>\n",
              "      <td>...</td>\n",
              "      <td>...</td>\n",
              "      <td>...</td>\n",
              "      <td>...</td>\n",
              "      <td>...</td>\n",
              "      <td>...</td>\n",
              "    </tr>\n",
              "    <tr>\n",
              "      <th>250</th>\n",
              "      <td>Til Pitha</td>\n",
              "      <td>Glutinous rice, black sesame seeds, gur</td>\n",
              "      <td>vegetarian</td>\n",
              "      <td>5</td>\n",
              "      <td>30</td>\n",
              "      <td>sweet</td>\n",
              "      <td>dessert</td>\n",
              "      <td>Assam</td>\n",
              "      <td>North East</td>\n",
              "      <td>5</td>\n",
              "    </tr>\n",
              "    <tr>\n",
              "      <th>251</th>\n",
              "      <td>Bebinca</td>\n",
              "      <td>Coconut milk, egg yolks, clarified butter, all...</td>\n",
              "      <td>vegetarian</td>\n",
              "      <td>20</td>\n",
              "      <td>60</td>\n",
              "      <td>sweet</td>\n",
              "      <td>dessert</td>\n",
              "      <td>Goa</td>\n",
              "      <td>West</td>\n",
              "      <td>5</td>\n",
              "    </tr>\n",
              "    <tr>\n",
              "      <th>252</th>\n",
              "      <td>Shufta</td>\n",
              "      <td>Cottage cheese, dry dates, dried rose petals, ...</td>\n",
              "      <td>vegetarian</td>\n",
              "      <td>-1</td>\n",
              "      <td>-1</td>\n",
              "      <td>sweet</td>\n",
              "      <td>dessert</td>\n",
              "      <td>Jammu &amp; Kashmir</td>\n",
              "      <td>North</td>\n",
              "      <td>5</td>\n",
              "    </tr>\n",
              "    <tr>\n",
              "      <th>253</th>\n",
              "      <td>Mawa Bati</td>\n",
              "      <td>Milk powder, dry fruits, arrowroot powder, all...</td>\n",
              "      <td>vegetarian</td>\n",
              "      <td>20</td>\n",
              "      <td>45</td>\n",
              "      <td>sweet</td>\n",
              "      <td>dessert</td>\n",
              "      <td>Madhya Pradesh</td>\n",
              "      <td>Central</td>\n",
              "      <td>5</td>\n",
              "    </tr>\n",
              "    <tr>\n",
              "      <th>254</th>\n",
              "      <td>Pinaca</td>\n",
              "      <td>Brown rice, fennel seeds, grated coconut, blac...</td>\n",
              "      <td>vegetarian</td>\n",
              "      <td>-1</td>\n",
              "      <td>-1</td>\n",
              "      <td>sweet</td>\n",
              "      <td>dessert</td>\n",
              "      <td>Goa</td>\n",
              "      <td>West</td>\n",
              "      <td>5</td>\n",
              "    </tr>\n",
              "  </tbody>\n",
              "</table>\n",
              "<p>255 rows × 10 columns</p>\n",
              "</div>"
            ],
            "text/plain": [
              "               name  ... NewCol\n",
              "0        Balu shahi  ...      5\n",
              "1            Boondi  ...      5\n",
              "2    Gajar ka halwa  ...      5\n",
              "3            Ghevar  ...      5\n",
              "4       Gulab jamun  ...      5\n",
              "..              ...  ...    ...\n",
              "250       Til Pitha  ...      5\n",
              "251         Bebinca  ...      5\n",
              "252          Shufta  ...      5\n",
              "253       Mawa Bati  ...      5\n",
              "254          Pinaca  ...      5\n",
              "\n",
              "[255 rows x 10 columns]"
            ]
          },
          "metadata": {
            "tags": []
          },
          "execution_count": 12
        }
      ]
    },
    {
      "cell_type": "code",
      "metadata": {
        "colab": {
          "base_uri": "https://localhost:8080/",
          "height": 949
        },
        "id": "Dts5PZZU_mHH",
        "outputId": "1a996b94-e7ea-4835-e186-97c9c33b4787"
      },
      "source": [
        "# Lets modify our new column\r\n",
        "df['NewCol'] = df['NewCol'] + 1\r\n",
        "df"
      ],
      "execution_count": 13,
      "outputs": [
        {
          "output_type": "execute_result",
          "data": {
            "text/html": [
              "<div>\n",
              "<style scoped>\n",
              "    .dataframe tbody tr th:only-of-type {\n",
              "        vertical-align: middle;\n",
              "    }\n",
              "\n",
              "    .dataframe tbody tr th {\n",
              "        vertical-align: top;\n",
              "    }\n",
              "\n",
              "    .dataframe thead th {\n",
              "        text-align: right;\n",
              "    }\n",
              "</style>\n",
              "<table border=\"1\" class=\"dataframe\">\n",
              "  <thead>\n",
              "    <tr style=\"text-align: right;\">\n",
              "      <th></th>\n",
              "      <th>name</th>\n",
              "      <th>ingredients</th>\n",
              "      <th>diet</th>\n",
              "      <th>prep_time</th>\n",
              "      <th>cook_time</th>\n",
              "      <th>flavor_profile</th>\n",
              "      <th>course</th>\n",
              "      <th>state</th>\n",
              "      <th>region</th>\n",
              "      <th>NewCol</th>\n",
              "    </tr>\n",
              "  </thead>\n",
              "  <tbody>\n",
              "    <tr>\n",
              "      <th>0</th>\n",
              "      <td>Balu shahi</td>\n",
              "      <td>Maida flour, yogurt, oil, sugar</td>\n",
              "      <td>vegetarian</td>\n",
              "      <td>45</td>\n",
              "      <td>25</td>\n",
              "      <td>sweet</td>\n",
              "      <td>dessert</td>\n",
              "      <td>West Bengal</td>\n",
              "      <td>East</td>\n",
              "      <td>6</td>\n",
              "    </tr>\n",
              "    <tr>\n",
              "      <th>1</th>\n",
              "      <td>Boondi</td>\n",
              "      <td>Gram flour, ghee, sugar</td>\n",
              "      <td>vegetarian</td>\n",
              "      <td>80</td>\n",
              "      <td>30</td>\n",
              "      <td>sweet</td>\n",
              "      <td>dessert</td>\n",
              "      <td>Rajasthan</td>\n",
              "      <td>West</td>\n",
              "      <td>6</td>\n",
              "    </tr>\n",
              "    <tr>\n",
              "      <th>2</th>\n",
              "      <td>Gajar ka halwa</td>\n",
              "      <td>Carrots, milk, sugar, ghee, cashews, raisins</td>\n",
              "      <td>vegetarian</td>\n",
              "      <td>15</td>\n",
              "      <td>60</td>\n",
              "      <td>sweet</td>\n",
              "      <td>dessert</td>\n",
              "      <td>Punjab</td>\n",
              "      <td>North</td>\n",
              "      <td>6</td>\n",
              "    </tr>\n",
              "    <tr>\n",
              "      <th>3</th>\n",
              "      <td>Ghevar</td>\n",
              "      <td>Flour, ghee, kewra, milk, clarified butter, su...</td>\n",
              "      <td>vegetarian</td>\n",
              "      <td>15</td>\n",
              "      <td>30</td>\n",
              "      <td>sweet</td>\n",
              "      <td>dessert</td>\n",
              "      <td>Rajasthan</td>\n",
              "      <td>West</td>\n",
              "      <td>6</td>\n",
              "    </tr>\n",
              "    <tr>\n",
              "      <th>4</th>\n",
              "      <td>Gulab jamun</td>\n",
              "      <td>Milk powder, plain flour, baking powder, ghee,...</td>\n",
              "      <td>vegetarian</td>\n",
              "      <td>15</td>\n",
              "      <td>40</td>\n",
              "      <td>sweet</td>\n",
              "      <td>dessert</td>\n",
              "      <td>West Bengal</td>\n",
              "      <td>East</td>\n",
              "      <td>6</td>\n",
              "    </tr>\n",
              "    <tr>\n",
              "      <th>...</th>\n",
              "      <td>...</td>\n",
              "      <td>...</td>\n",
              "      <td>...</td>\n",
              "      <td>...</td>\n",
              "      <td>...</td>\n",
              "      <td>...</td>\n",
              "      <td>...</td>\n",
              "      <td>...</td>\n",
              "      <td>...</td>\n",
              "      <td>...</td>\n",
              "    </tr>\n",
              "    <tr>\n",
              "      <th>250</th>\n",
              "      <td>Til Pitha</td>\n",
              "      <td>Glutinous rice, black sesame seeds, gur</td>\n",
              "      <td>vegetarian</td>\n",
              "      <td>5</td>\n",
              "      <td>30</td>\n",
              "      <td>sweet</td>\n",
              "      <td>dessert</td>\n",
              "      <td>Assam</td>\n",
              "      <td>North East</td>\n",
              "      <td>6</td>\n",
              "    </tr>\n",
              "    <tr>\n",
              "      <th>251</th>\n",
              "      <td>Bebinca</td>\n",
              "      <td>Coconut milk, egg yolks, clarified butter, all...</td>\n",
              "      <td>vegetarian</td>\n",
              "      <td>20</td>\n",
              "      <td>60</td>\n",
              "      <td>sweet</td>\n",
              "      <td>dessert</td>\n",
              "      <td>Goa</td>\n",
              "      <td>West</td>\n",
              "      <td>6</td>\n",
              "    </tr>\n",
              "    <tr>\n",
              "      <th>252</th>\n",
              "      <td>Shufta</td>\n",
              "      <td>Cottage cheese, dry dates, dried rose petals, ...</td>\n",
              "      <td>vegetarian</td>\n",
              "      <td>-1</td>\n",
              "      <td>-1</td>\n",
              "      <td>sweet</td>\n",
              "      <td>dessert</td>\n",
              "      <td>Jammu &amp; Kashmir</td>\n",
              "      <td>North</td>\n",
              "      <td>6</td>\n",
              "    </tr>\n",
              "    <tr>\n",
              "      <th>253</th>\n",
              "      <td>Mawa Bati</td>\n",
              "      <td>Milk powder, dry fruits, arrowroot powder, all...</td>\n",
              "      <td>vegetarian</td>\n",
              "      <td>20</td>\n",
              "      <td>45</td>\n",
              "      <td>sweet</td>\n",
              "      <td>dessert</td>\n",
              "      <td>Madhya Pradesh</td>\n",
              "      <td>Central</td>\n",
              "      <td>6</td>\n",
              "    </tr>\n",
              "    <tr>\n",
              "      <th>254</th>\n",
              "      <td>Pinaca</td>\n",
              "      <td>Brown rice, fennel seeds, grated coconut, blac...</td>\n",
              "      <td>vegetarian</td>\n",
              "      <td>-1</td>\n",
              "      <td>-1</td>\n",
              "      <td>sweet</td>\n",
              "      <td>dessert</td>\n",
              "      <td>Goa</td>\n",
              "      <td>West</td>\n",
              "      <td>6</td>\n",
              "    </tr>\n",
              "  </tbody>\n",
              "</table>\n",
              "<p>255 rows × 10 columns</p>\n",
              "</div>"
            ],
            "text/plain": [
              "               name  ... NewCol\n",
              "0        Balu shahi  ...      6\n",
              "1            Boondi  ...      6\n",
              "2    Gajar ka halwa  ...      6\n",
              "3            Ghevar  ...      6\n",
              "4       Gulab jamun  ...      6\n",
              "..              ...  ...    ...\n",
              "250       Til Pitha  ...      6\n",
              "251         Bebinca  ...      6\n",
              "252          Shufta  ...      6\n",
              "253       Mawa Bati  ...      6\n",
              "254          Pinaca  ...      6\n",
              "\n",
              "[255 rows x 10 columns]"
            ]
          },
          "metadata": {
            "tags": []
          },
          "execution_count": 13
        }
      ]
    },
    {
      "cell_type": "code",
      "metadata": {
        "id": "QJ9NdHxQLBHM",
        "colab": {
          "base_uri": "https://localhost:8080/",
          "height": 949
        },
        "outputId": "78e6a416-3bc7-4b29-9875-e604b562d161"
      },
      "source": [
        "# drop new added column in data set\r\n",
        "del df['NewCol']\r\n",
        "df"
      ],
      "execution_count": 14,
      "outputs": [
        {
          "output_type": "execute_result",
          "data": {
            "text/html": [
              "<div>\n",
              "<style scoped>\n",
              "    .dataframe tbody tr th:only-of-type {\n",
              "        vertical-align: middle;\n",
              "    }\n",
              "\n",
              "    .dataframe tbody tr th {\n",
              "        vertical-align: top;\n",
              "    }\n",
              "\n",
              "    .dataframe thead th {\n",
              "        text-align: right;\n",
              "    }\n",
              "</style>\n",
              "<table border=\"1\" class=\"dataframe\">\n",
              "  <thead>\n",
              "    <tr style=\"text-align: right;\">\n",
              "      <th></th>\n",
              "      <th>name</th>\n",
              "      <th>ingredients</th>\n",
              "      <th>diet</th>\n",
              "      <th>prep_time</th>\n",
              "      <th>cook_time</th>\n",
              "      <th>flavor_profile</th>\n",
              "      <th>course</th>\n",
              "      <th>state</th>\n",
              "      <th>region</th>\n",
              "    </tr>\n",
              "  </thead>\n",
              "  <tbody>\n",
              "    <tr>\n",
              "      <th>0</th>\n",
              "      <td>Balu shahi</td>\n",
              "      <td>Maida flour, yogurt, oil, sugar</td>\n",
              "      <td>vegetarian</td>\n",
              "      <td>45</td>\n",
              "      <td>25</td>\n",
              "      <td>sweet</td>\n",
              "      <td>dessert</td>\n",
              "      <td>West Bengal</td>\n",
              "      <td>East</td>\n",
              "    </tr>\n",
              "    <tr>\n",
              "      <th>1</th>\n",
              "      <td>Boondi</td>\n",
              "      <td>Gram flour, ghee, sugar</td>\n",
              "      <td>vegetarian</td>\n",
              "      <td>80</td>\n",
              "      <td>30</td>\n",
              "      <td>sweet</td>\n",
              "      <td>dessert</td>\n",
              "      <td>Rajasthan</td>\n",
              "      <td>West</td>\n",
              "    </tr>\n",
              "    <tr>\n",
              "      <th>2</th>\n",
              "      <td>Gajar ka halwa</td>\n",
              "      <td>Carrots, milk, sugar, ghee, cashews, raisins</td>\n",
              "      <td>vegetarian</td>\n",
              "      <td>15</td>\n",
              "      <td>60</td>\n",
              "      <td>sweet</td>\n",
              "      <td>dessert</td>\n",
              "      <td>Punjab</td>\n",
              "      <td>North</td>\n",
              "    </tr>\n",
              "    <tr>\n",
              "      <th>3</th>\n",
              "      <td>Ghevar</td>\n",
              "      <td>Flour, ghee, kewra, milk, clarified butter, su...</td>\n",
              "      <td>vegetarian</td>\n",
              "      <td>15</td>\n",
              "      <td>30</td>\n",
              "      <td>sweet</td>\n",
              "      <td>dessert</td>\n",
              "      <td>Rajasthan</td>\n",
              "      <td>West</td>\n",
              "    </tr>\n",
              "    <tr>\n",
              "      <th>4</th>\n",
              "      <td>Gulab jamun</td>\n",
              "      <td>Milk powder, plain flour, baking powder, ghee,...</td>\n",
              "      <td>vegetarian</td>\n",
              "      <td>15</td>\n",
              "      <td>40</td>\n",
              "      <td>sweet</td>\n",
              "      <td>dessert</td>\n",
              "      <td>West Bengal</td>\n",
              "      <td>East</td>\n",
              "    </tr>\n",
              "    <tr>\n",
              "      <th>...</th>\n",
              "      <td>...</td>\n",
              "      <td>...</td>\n",
              "      <td>...</td>\n",
              "      <td>...</td>\n",
              "      <td>...</td>\n",
              "      <td>...</td>\n",
              "      <td>...</td>\n",
              "      <td>...</td>\n",
              "      <td>...</td>\n",
              "    </tr>\n",
              "    <tr>\n",
              "      <th>250</th>\n",
              "      <td>Til Pitha</td>\n",
              "      <td>Glutinous rice, black sesame seeds, gur</td>\n",
              "      <td>vegetarian</td>\n",
              "      <td>5</td>\n",
              "      <td>30</td>\n",
              "      <td>sweet</td>\n",
              "      <td>dessert</td>\n",
              "      <td>Assam</td>\n",
              "      <td>North East</td>\n",
              "    </tr>\n",
              "    <tr>\n",
              "      <th>251</th>\n",
              "      <td>Bebinca</td>\n",
              "      <td>Coconut milk, egg yolks, clarified butter, all...</td>\n",
              "      <td>vegetarian</td>\n",
              "      <td>20</td>\n",
              "      <td>60</td>\n",
              "      <td>sweet</td>\n",
              "      <td>dessert</td>\n",
              "      <td>Goa</td>\n",
              "      <td>West</td>\n",
              "    </tr>\n",
              "    <tr>\n",
              "      <th>252</th>\n",
              "      <td>Shufta</td>\n",
              "      <td>Cottage cheese, dry dates, dried rose petals, ...</td>\n",
              "      <td>vegetarian</td>\n",
              "      <td>-1</td>\n",
              "      <td>-1</td>\n",
              "      <td>sweet</td>\n",
              "      <td>dessert</td>\n",
              "      <td>Jammu &amp; Kashmir</td>\n",
              "      <td>North</td>\n",
              "    </tr>\n",
              "    <tr>\n",
              "      <th>253</th>\n",
              "      <td>Mawa Bati</td>\n",
              "      <td>Milk powder, dry fruits, arrowroot powder, all...</td>\n",
              "      <td>vegetarian</td>\n",
              "      <td>20</td>\n",
              "      <td>45</td>\n",
              "      <td>sweet</td>\n",
              "      <td>dessert</td>\n",
              "      <td>Madhya Pradesh</td>\n",
              "      <td>Central</td>\n",
              "    </tr>\n",
              "    <tr>\n",
              "      <th>254</th>\n",
              "      <td>Pinaca</td>\n",
              "      <td>Brown rice, fennel seeds, grated coconut, blac...</td>\n",
              "      <td>vegetarian</td>\n",
              "      <td>-1</td>\n",
              "      <td>-1</td>\n",
              "      <td>sweet</td>\n",
              "      <td>dessert</td>\n",
              "      <td>Goa</td>\n",
              "      <td>West</td>\n",
              "    </tr>\n",
              "  </tbody>\n",
              "</table>\n",
              "<p>255 rows × 9 columns</p>\n",
              "</div>"
            ],
            "text/plain": [
              "               name  ...      region\n",
              "0        Balu shahi  ...        East\n",
              "1            Boondi  ...        West\n",
              "2    Gajar ka halwa  ...       North\n",
              "3            Ghevar  ...        West\n",
              "4       Gulab jamun  ...        East\n",
              "..              ...  ...         ...\n",
              "250       Til Pitha  ...  North East\n",
              "251         Bebinca  ...        West\n",
              "252          Shufta  ...       North\n",
              "253       Mawa Bati  ...     Central\n",
              "254          Pinaca  ...        West\n",
              "\n",
              "[255 rows x 9 columns]"
            ]
          },
          "metadata": {
            "tags": []
          },
          "execution_count": 14
        }
      ]
    },
    {
      "cell_type": "code",
      "metadata": {
        "colab": {
          "base_uri": "https://localhost:8080/"
        },
        "id": "SEKtDhIgKbZG",
        "outputId": "a4a1d3db-f415-4b84-bc30-e790b039cb24"
      },
      "source": [
        "print(data[data['prep_time']==30].count())"
      ],
      "execution_count": null,
      "outputs": [
        {
          "output_type": "stream",
          "text": [
            "name              12\n",
            "ingredients       12\n",
            "diet              12\n",
            "prep_time         12\n",
            "cook_time         12\n",
            "flavor_profile    12\n",
            "course            12\n",
            "state             12\n",
            "region            12\n",
            "dtype: int64\n"
          ],
          "name": "stdout"
        }
      ]
    },
    {
      "cell_type": "code",
      "metadata": {
        "colab": {
          "base_uri": "https://localhost:8080/",
          "height": 266
        },
        "id": "-GSZySIbLHiN",
        "outputId": "c6a63a3a-aaff-49e8-9889-68ecdcb1e2ef"
      },
      "source": [
        "x = data[data['cook_time']==30].count()\r\n",
        "plt.plot(x)\r\n",
        "plt.show()"
      ],
      "execution_count": null,
      "outputs": [
        {
          "output_type": "display_data",
          "data": {
            "image/png": "[encoded data removed]",
            "text/plain": [
              "<Figure size 432x288 with 1 Axes>"
            ]
          },
          "metadata": {
            "tags": [],
            "needs_background": "light"
          }
        }
      ]
    },
    {
      "cell_type": "code",
      "metadata": {
        "colab": {
          "base_uri": "https://localhost:8080/"
        },
        "id": "dVcH4XVBLsi9",
        "outputId": "bf3f4b2b-1fa2-4050-dd56-7fe8c8cc01d9"
      },
      "source": [
        "print(data[data['cook_time']==30].value_counts)"
      ],
      "execution_count": null,
      "outputs": [
        {
          "output_type": "stream",
          "text": [
            "<bound method DataFrame.value_counts of                              name  ...      region\n",
            "1                          Boondi  ...        West\n",
            "3                          Ghevar  ...        West\n",
            "8                        Kalakand  ...        East\n",
            "12                      Nankhatai  ...          -1\n",
            "13                          Petha  ...       North\n",
            "26                       Lyangcha  ...  North East\n",
            "28                       Mihidana  ...        East\n",
            "29                      Misti doi  ...        East\n",
            "32                       Rasabali  ...        East\n",
            "41               Double ka meetha  ...       South\n",
            "42                        Gavvalu  ...       South\n",
            "43                 Kakinada khaja  ...       South\n",
            "74                  Bhindi masala  ...       North\n",
            "77                   Chana masala  ...       North\n",
            "82                  Chole bhature  ...       North\n",
            "84                      Daal puri  ...        East\n",
            "86                      Dal tadka  ...       North\n",
            "88                           Poha  ...        West\n",
            "91                   Kadai paneer  ...       North\n",
            "100  Makki di roti sarson da saag  ...       North\n",
            "101                     Misi roti  ...       North\n",
            "102             Mushroom do pyaza  ...       North\n",
            "103                Mushroom matar  ...       North\n",
            "104                          Naan  ...       North\n",
            "113                        Pattor  ...        West\n",
            "116                         Rongi  ...       North\n",
            "117                        Samosa  ...          -1\n",
            "120                   Shahi tukra  ...       South\n",
            "121            Vegetable jalfrezi  ...       North\n",
            "122              Tandoori Chicken  ...       North\n",
            "123           Tandoori Fish Tikka  ...       North\n",
            "129                      Idiappam  ...       South\n",
            "133                  Keerai kootu  ...       South\n",
            "136                Keerai poriyal  ...       South\n",
            "143                      Kuzhambu  ...       South\n",
            "149                       Payasam  ...       South\n",
            "158                         Sevai  ...       South\n",
            "170                  Coconut vadi  ...        West\n",
            "174                        Chevdo  ...        West\n",
            "176                    Copra paak  ...        West\n",
            "177                   Daal Dhokli  ...        West\n",
            "179                     Dahi vada  ...        West\n",
            "182                   Dudhi halwa  ...        West\n",
            "186                        Handwo  ...        West\n",
            "188                    Jeera Aloo  ...        West\n",
            "196                 Methi na Gota  ...        West\n",
            "198                       Muthiya  ...        West\n",
            "201                    Puri Bhaji  ...        West\n",
            "202             Sabudana Khichadi  ...        West\n",
            "203                   Sev khamani  ...        West\n",
            "204                    Sev tameta  ...        West\n",
            "208                    Thalipeeth  ...        West\n",
            "210                 Veg Kolhapuri  ...        West\n",
            "215                        Thepla  ...        West\n",
            "221                  Gheela Pitha  ...  North East\n",
            "224                         Luchi  ...        East\n",
            "236                 Chingri Bhape  ...        East\n",
            "243            Mishti Chholar Dal  ...        East\n",
            "250                     Til Pitha  ...  North East\n",
            "\n",
            "[59 rows x 9 columns]>\n"
          ],
          "name": "stdout"
        }
      ]
    },
    {
      "cell_type": "code",
      "metadata": {
        "colab": {
          "base_uri": "https://localhost:8080/"
        },
        "id": "UDvobe9hMJ8d",
        "outputId": "7a280172-b2f1-402d-cebc-b9eafe57fb32"
      },
      "source": [
        "print(data['prep_time'].value_counts())"
      ],
      "execution_count": null,
      "outputs": [
        {
          "output_type": "stream",
          "text": [
            " 10     98\n",
            " 20     40\n",
            "-1      30\n",
            " 15     22\n",
            " 5      16\n",
            " 30     12\n",
            " 25      5\n",
            " 45      5\n",
            " 120     5\n",
            " 240     4\n",
            " 40      3\n",
            " 360     3\n",
            " 60      2\n",
            " 180     2\n",
            " 80      1\n",
            " 70      1\n",
            " 35      1\n",
            " 150     1\n",
            " 12      1\n",
            " 480     1\n",
            " 495     1\n",
            " 500     1\n",
            "Name: prep_time, dtype: int64\n"
          ],
          "name": "stdout"
        }
      ]
    },
    {
      "cell_type": "code",
      "metadata": {
        "colab": {
          "base_uri": "https://localhost:8080/",
          "height": 265
        },
        "id": "ThsHx9NKMcSx",
        "outputId": "64f99f77-ed17-4cc5-a9b1-c688684edd76"
      },
      "source": [
        "plt.plot(data['cook_time'].value_counts())\r\n",
        "plt.show()"
      ],
      "execution_count": null,
      "outputs": [
        {
          "output_type": "display_data",
          "data": {
            "image/png": "[encoded data removed]",
            "text/plain": [
              "<Figure size 432x288 with 1 Axes>"
            ]
          },
          "metadata": {
            "tags": [],
            "needs_background": "light"
          }
        }
      ]
    },
    {
      "cell_type": "code",
      "metadata": {
        "colab": {
          "base_uri": "https://localhost:8080/",
          "height": 444
        },
        "id": "A0Ba49v6M4me",
        "outputId": "7c1b8886-8cd3-4261-9ac7-d636b4a0c7de"
      },
      "source": [
        "import matplotlib.pyplot as plt\r\n",
        "\r\n",
        "data2 = pd.read_csv('indian_food.csv')\r\n",
        "print(data2.head())\r\n",
        "pcount=count=0\r\n",
        "for s in data['cook_time']:\r\n",
        "  if s==1:\r\n",
        "    count+=1\r\n",
        "  else:\r\n",
        "    pcount+=1\r\n",
        "    \r\n",
        "print(\"Cook Time\",count)\r\n",
        "print(\"Prep Time\",pcount)\r\n",
        "data2['cook_time'].plot(kind=\"bar\")\r\n",
        "plt.show()\r\n"
      ],
      "execution_count": null,
      "outputs": [
        {
          "output_type": "stream",
          "text": [
            "             name  ... region\n",
            "0      Balu shahi  ...   East\n",
            "1          Boondi  ...   West\n",
            "2  Gajar ka halwa  ...  North\n",
            "3          Ghevar  ...   West\n",
            "4     Gulab jamun  ...   East\n",
            "\n",
            "[5 rows x 9 columns]\n",
            "Cook Time 0\n",
            "Prep Time 255\n"
          ],
          "name": "stdout"
        },
        {
          "output_type": "display_data",
          "data": {
            "image/png": "[encoded data removed]",
            "text/plain": [
              "<Figure size 432x288 with 1 Axes>"
            ]
          },
          "metadata": {
            "tags": [],
            "needs_background": "light"
          }
        }
      ]
    },
    {
      "cell_type": "markdown",
      "metadata": {
        "id": "LmTUkUcbQMDi"
      },
      "source": [
        "**Importing Required libraries**"
      ]
    },
    {
      "cell_type": "code",
      "metadata": {
        "id": "i2VZfAZEQPsG"
      },
      "source": [
        "import pandas as pd\r\n",
        "import numpy as np\r\n",
        "import seaborn as sns\r\n",
        "import matplotlib.pyplot as plt"
      ],
      "execution_count": null,
      "outputs": []
    },
    {
      "cell_type": "markdown",
      "metadata": {
        "id": "uv031N67QgAa"
      },
      "source": [
        "**Reading the dataset**"
      ]
    },
    {
      "cell_type": "code",
      "metadata": {
        "colab": {
          "base_uri": "https://localhost:8080/",
          "height": 204
        },
        "id": "TmXKeV7RQbZK",
        "outputId": "88f693e8-28d4-4b21-cc86-1752f547c20d"
      },
      "source": [
        "df=pd.read_csv(\"indian_food.csv\")\r\n",
        "df.index\r\n",
        "df.head()"
      ],
      "execution_count": null,
      "outputs": [
        {
          "output_type": "execute_result",
          "data": {
            "text/html": [
              "<div>\n",
              "<style scoped>\n",
              "    .dataframe tbody tr th:only-of-type {\n",
              "        vertical-align: middle;\n",
              "    }\n",
              "\n",
              "    .dataframe tbody tr th {\n",
              "        vertical-align: top;\n",
              "    }\n",
              "\n",
              "    .dataframe thead th {\n",
              "        text-align: right;\n",
              "    }\n",
              "</style>\n",
              "<table border=\"1\" class=\"dataframe\">\n",
              "  <thead>\n",
              "    <tr style=\"text-align: right;\">\n",
              "      <th></th>\n",
              "      <th>name</th>\n",
              "      <th>ingredients</th>\n",
              "      <th>diet</th>\n",
              "      <th>prep_time</th>\n",
              "      <th>cook_time</th>\n",
              "      <th>flavor_profile</th>\n",
              "      <th>course</th>\n",
              "      <th>state</th>\n",
              "      <th>region</th>\n",
              "    </tr>\n",
              "  </thead>\n",
              "  <tbody>\n",
              "    <tr>\n",
              "      <th>0</th>\n",
              "      <td>Balu shahi</td>\n",
              "      <td>Maida flour, yogurt, oil, sugar</td>\n",
              "      <td>vegetarian</td>\n",
              "      <td>45</td>\n",
              "      <td>25</td>\n",
              "      <td>sweet</td>\n",
              "      <td>dessert</td>\n",
              "      <td>West Bengal</td>\n",
              "      <td>East</td>\n",
              "    </tr>\n",
              "    <tr>\n",
              "      <th>1</th>\n",
              "      <td>Boondi</td>\n",
              "      <td>Gram flour, ghee, sugar</td>\n",
              "      <td>vegetarian</td>\n",
              "      <td>80</td>\n",
              "      <td>30</td>\n",
              "      <td>sweet</td>\n",
              "      <td>dessert</td>\n",
              "      <td>Rajasthan</td>\n",
              "      <td>West</td>\n",
              "    </tr>\n",
              "    <tr>\n",
              "      <th>2</th>\n",
              "      <td>Gajar ka halwa</td>\n",
              "      <td>Carrots, milk, sugar, ghee, cashews, raisins</td>\n",
              "      <td>vegetarian</td>\n",
              "      <td>15</td>\n",
              "      <td>60</td>\n",
              "      <td>sweet</td>\n",
              "      <td>dessert</td>\n",
              "      <td>Punjab</td>\n",
              "      <td>North</td>\n",
              "    </tr>\n",
              "    <tr>\n",
              "      <th>3</th>\n",
              "      <td>Ghevar</td>\n",
              "      <td>Flour, ghee, kewra, milk, clarified butter, su...</td>\n",
              "      <td>vegetarian</td>\n",
              "      <td>15</td>\n",
              "      <td>30</td>\n",
              "      <td>sweet</td>\n",
              "      <td>dessert</td>\n",
              "      <td>Rajasthan</td>\n",
              "      <td>West</td>\n",
              "    </tr>\n",
              "    <tr>\n",
              "      <th>4</th>\n",
              "      <td>Gulab jamun</td>\n",
              "      <td>Milk powder, plain flour, baking powder, ghee,...</td>\n",
              "      <td>vegetarian</td>\n",
              "      <td>15</td>\n",
              "      <td>40</td>\n",
              "      <td>sweet</td>\n",
              "      <td>dessert</td>\n",
              "      <td>West Bengal</td>\n",
              "      <td>East</td>\n",
              "    </tr>\n",
              "  </tbody>\n",
              "</table>\n",
              "</div>"
            ],
            "text/plain": [
              "             name  ... region\n",
              "0      Balu shahi  ...   East\n",
              "1          Boondi  ...   West\n",
              "2  Gajar ka halwa  ...  North\n",
              "3          Ghevar  ...   West\n",
              "4     Gulab jamun  ...   East\n",
              "\n",
              "[5 rows x 9 columns]"
            ]
          },
          "metadata": {
            "tags": []
          },
          "execution_count": 52
        }
      ]
    },
    {
      "cell_type": "markdown",
      "metadata": {
        "id": "C0gAmxS7Qu_U"
      },
      "source": [
        "**Understanding the data**"
      ]
    },
    {
      "cell_type": "code",
      "metadata": {
        "colab": {
          "base_uri": "https://localhost:8080/"
        },
        "id": "nX21XS5lQ_MO",
        "outputId": "e958f43a-f560-4748-d65f-ecba428b6adf"
      },
      "source": [
        "df.shape"
      ],
      "execution_count": null,
      "outputs": [
        {
          "output_type": "execute_result",
          "data": {
            "text/plain": [
              "(255, 9)"
            ]
          },
          "metadata": {
            "tags": []
          },
          "execution_count": 53
        }
      ]
    },
    {
      "cell_type": "code",
      "metadata": {
        "colab": {
          "base_uri": "https://localhost:8080/",
          "height": 521
        },
        "id": "YJPrvg3DRFHg",
        "outputId": "75e115b5-4e29-4b3e-b917-ad360e3d8e4c"
      },
      "source": [
        "df.dropna()"
      ],
      "execution_count": null,
      "outputs": [
        {
          "output_type": "execute_result",
          "data": {
            "text/html": [
              "<div>\n",
              "<style scoped>\n",
              "    .dataframe tbody tr th:only-of-type {\n",
              "        vertical-align: middle;\n",
              "    }\n",
              "\n",
              "    .dataframe tbody tr th {\n",
              "        vertical-align: top;\n",
              "    }\n",
              "\n",
              "    .dataframe thead th {\n",
              "        text-align: right;\n",
              "    }\n",
              "</style>\n",
              "<table border=\"1\" class=\"dataframe\">\n",
              "  <thead>\n",
              "    <tr style=\"text-align: right;\">\n",
              "      <th></th>\n",
              "      <th>name</th>\n",
              "      <th>ingredients</th>\n",
              "      <th>diet</th>\n",
              "      <th>prep_time</th>\n",
              "      <th>cook_time</th>\n",
              "      <th>flavor_profile</th>\n",
              "      <th>course</th>\n",
              "      <th>state</th>\n",
              "      <th>region</th>\n",
              "    </tr>\n",
              "  </thead>\n",
              "  <tbody>\n",
              "    <tr>\n",
              "      <th>0</th>\n",
              "      <td>Balu shahi</td>\n",
              "      <td>Maida flour, yogurt, oil, sugar</td>\n",
              "      <td>vegetarian</td>\n",
              "      <td>45</td>\n",
              "      <td>25</td>\n",
              "      <td>sweet</td>\n",
              "      <td>dessert</td>\n",
              "      <td>West Bengal</td>\n",
              "      <td>East</td>\n",
              "    </tr>\n",
              "    <tr>\n",
              "      <th>1</th>\n",
              "      <td>Boondi</td>\n",
              "      <td>Gram flour, ghee, sugar</td>\n",
              "      <td>vegetarian</td>\n",
              "      <td>80</td>\n",
              "      <td>30</td>\n",
              "      <td>sweet</td>\n",
              "      <td>dessert</td>\n",
              "      <td>Rajasthan</td>\n",
              "      <td>West</td>\n",
              "    </tr>\n",
              "    <tr>\n",
              "      <th>2</th>\n",
              "      <td>Gajar ka halwa</td>\n",
              "      <td>Carrots, milk, sugar, ghee, cashews, raisins</td>\n",
              "      <td>vegetarian</td>\n",
              "      <td>15</td>\n",
              "      <td>60</td>\n",
              "      <td>sweet</td>\n",
              "      <td>dessert</td>\n",
              "      <td>Punjab</td>\n",
              "      <td>North</td>\n",
              "    </tr>\n",
              "    <tr>\n",
              "      <th>3</th>\n",
              "      <td>Ghevar</td>\n",
              "      <td>Flour, ghee, kewra, milk, clarified butter, su...</td>\n",
              "      <td>vegetarian</td>\n",
              "      <td>15</td>\n",
              "      <td>30</td>\n",
              "      <td>sweet</td>\n",
              "      <td>dessert</td>\n",
              "      <td>Rajasthan</td>\n",
              "      <td>West</td>\n",
              "    </tr>\n",
              "    <tr>\n",
              "      <th>4</th>\n",
              "      <td>Gulab jamun</td>\n",
              "      <td>Milk powder, plain flour, baking powder, ghee,...</td>\n",
              "      <td>vegetarian</td>\n",
              "      <td>15</td>\n",
              "      <td>40</td>\n",
              "      <td>sweet</td>\n",
              "      <td>dessert</td>\n",
              "      <td>West Bengal</td>\n",
              "      <td>East</td>\n",
              "    </tr>\n",
              "    <tr>\n",
              "      <th>...</th>\n",
              "      <td>...</td>\n",
              "      <td>...</td>\n",
              "      <td>...</td>\n",
              "      <td>...</td>\n",
              "      <td>...</td>\n",
              "      <td>...</td>\n",
              "      <td>...</td>\n",
              "      <td>...</td>\n",
              "      <td>...</td>\n",
              "    </tr>\n",
              "    <tr>\n",
              "      <th>250</th>\n",
              "      <td>Til Pitha</td>\n",
              "      <td>Glutinous rice, black sesame seeds, gur</td>\n",
              "      <td>vegetarian</td>\n",
              "      <td>5</td>\n",
              "      <td>30</td>\n",
              "      <td>sweet</td>\n",
              "      <td>dessert</td>\n",
              "      <td>Assam</td>\n",
              "      <td>North East</td>\n",
              "    </tr>\n",
              "    <tr>\n",
              "      <th>251</th>\n",
              "      <td>Bebinca</td>\n",
              "      <td>Coconut milk, egg yolks, clarified butter, all...</td>\n",
              "      <td>vegetarian</td>\n",
              "      <td>20</td>\n",
              "      <td>60</td>\n",
              "      <td>sweet</td>\n",
              "      <td>dessert</td>\n",
              "      <td>Goa</td>\n",
              "      <td>West</td>\n",
              "    </tr>\n",
              "    <tr>\n",
              "      <th>252</th>\n",
              "      <td>Shufta</td>\n",
              "      <td>Cottage cheese, dry dates, dried rose petals, ...</td>\n",
              "      <td>vegetarian</td>\n",
              "      <td>-1</td>\n",
              "      <td>-1</td>\n",
              "      <td>sweet</td>\n",
              "      <td>dessert</td>\n",
              "      <td>Jammu &amp; Kashmir</td>\n",
              "      <td>North</td>\n",
              "    </tr>\n",
              "    <tr>\n",
              "      <th>253</th>\n",
              "      <td>Mawa Bati</td>\n",
              "      <td>Milk powder, dry fruits, arrowroot powder, all...</td>\n",
              "      <td>vegetarian</td>\n",
              "      <td>20</td>\n",
              "      <td>45</td>\n",
              "      <td>sweet</td>\n",
              "      <td>dessert</td>\n",
              "      <td>Madhya Pradesh</td>\n",
              "      <td>Central</td>\n",
              "    </tr>\n",
              "    <tr>\n",
              "      <th>254</th>\n",
              "      <td>Pinaca</td>\n",
              "      <td>Brown rice, fennel seeds, grated coconut, blac...</td>\n",
              "      <td>vegetarian</td>\n",
              "      <td>-1</td>\n",
              "      <td>-1</td>\n",
              "      <td>sweet</td>\n",
              "      <td>dessert</td>\n",
              "      <td>Goa</td>\n",
              "      <td>West</td>\n",
              "    </tr>\n",
              "  </tbody>\n",
              "</table>\n",
              "<p>254 rows × 9 columns</p>\n",
              "</div>"
            ],
            "text/plain": [
              "               name  ...      region\n",
              "0        Balu shahi  ...        East\n",
              "1            Boondi  ...        West\n",
              "2    Gajar ka halwa  ...       North\n",
              "3            Ghevar  ...        West\n",
              "4       Gulab jamun  ...        East\n",
              "..              ...  ...         ...\n",
              "250       Til Pitha  ...  North East\n",
              "251         Bebinca  ...        West\n",
              "252          Shufta  ...       North\n",
              "253       Mawa Bati  ...     Central\n",
              "254          Pinaca  ...        West\n",
              "\n",
              "[254 rows x 9 columns]"
            ]
          },
          "metadata": {
            "tags": []
          },
          "execution_count": 54
        }
      ]
    },
    {
      "cell_type": "code",
      "metadata": {
        "colab": {
          "base_uri": "https://localhost:8080/"
        },
        "id": "biiKn0CSRIHU",
        "outputId": "eff84969-aa73-48b8-ac01-3b9f7c248510"
      },
      "source": [
        "df.isnull().sum()"
      ],
      "execution_count": null,
      "outputs": [
        {
          "output_type": "execute_result",
          "data": {
            "text/plain": [
              "name              0\n",
              "ingredients       0\n",
              "diet              0\n",
              "prep_time         0\n",
              "cook_time         0\n",
              "flavor_profile    0\n",
              "course            0\n",
              "state             0\n",
              "region            1\n",
              "dtype: int64"
            ]
          },
          "metadata": {
            "tags": []
          },
          "execution_count": 55
        }
      ]
    },
    {
      "cell_type": "code",
      "metadata": {
        "colab": {
          "base_uri": "https://localhost:8080/"
        },
        "id": "X2ITN5tHRQ3y",
        "outputId": "16db9e91-6e2d-497c-bc96-12650577320c"
      },
      "source": [
        "df.dtypes"
      ],
      "execution_count": null,
      "outputs": [
        {
          "output_type": "execute_result",
          "data": {
            "text/plain": [
              "name              object\n",
              "ingredients       object\n",
              "diet              object\n",
              "prep_time          int64\n",
              "cook_time          int64\n",
              "flavor_profile    object\n",
              "course            object\n",
              "state             object\n",
              "region            object\n",
              "dtype: object"
            ]
          },
          "metadata": {
            "tags": []
          },
          "execution_count": 56
        }
      ]
    },
    {
      "cell_type": "code",
      "metadata": {
        "colab": {
          "base_uri": "https://localhost:8080/"
        },
        "id": "shh72EQyRTDY",
        "outputId": "0341ca98-0a17-482c-dff6-e20c5aeb4353"
      },
      "source": [
        "df.isna().sum()"
      ],
      "execution_count": null,
      "outputs": [
        {
          "output_type": "execute_result",
          "data": {
            "text/plain": [
              "name              0\n",
              "ingredients       0\n",
              "diet              0\n",
              "prep_time         0\n",
              "cook_time         0\n",
              "flavor_profile    0\n",
              "course            0\n",
              "state             0\n",
              "region            1\n",
              "dtype: int64"
            ]
          },
          "metadata": {
            "tags": []
          },
          "execution_count": 57
        }
      ]
    },
    {
      "cell_type": "code",
      "metadata": {
        "colab": {
          "base_uri": "https://localhost:8080/"
        },
        "id": "xgwysIXgRYZA",
        "outputId": "e74e5ae1-7e7f-4c4d-85e2-4e8e13dd762e"
      },
      "source": [
        "df.describe"
      ],
      "execution_count": null,
      "outputs": [
        {
          "output_type": "execute_result",
          "data": {
            "text/plain": [
              "<bound method NDFrame.describe of                name  ...      region\n",
              "0        Balu shahi  ...        East\n",
              "1            Boondi  ...        West\n",
              "2    Gajar ka halwa  ...       North\n",
              "3            Ghevar  ...        West\n",
              "4       Gulab jamun  ...        East\n",
              "..              ...  ...         ...\n",
              "250       Til Pitha  ...  North East\n",
              "251         Bebinca  ...        West\n",
              "252          Shufta  ...       North\n",
              "253       Mawa Bati  ...     Central\n",
              "254          Pinaca  ...        West\n",
              "\n",
              "[255 rows x 9 columns]>"
            ]
          },
          "metadata": {
            "tags": []
          },
          "execution_count": 58
        }
      ]
    },
    {
      "cell_type": "code",
      "metadata": {
        "colab": {
          "base_uri": "https://localhost:8080/"
        },
        "id": "HxjaMYQcT0zM",
        "outputId": "be7e2707-a576-4ddf-dded-7e3cc65ed187"
      },
      "source": [
        "df['region'].unique()"
      ],
      "execution_count": null,
      "outputs": [
        {
          "output_type": "execute_result",
          "data": {
            "text/plain": [
              "array(['East', 'West', 'North', '-1', 'North East', 'South', 'Central',\n",
              "       nan], dtype=object)"
            ]
          },
          "metadata": {
            "tags": []
          },
          "execution_count": 64
        }
      ]
    },
    {
      "cell_type": "code",
      "metadata": {
        "colab": {
          "base_uri": "https://localhost:8080/"
        },
        "id": "qhCvtKEWT2JJ",
        "outputId": "9aab50cb-f6c2-40f8-bd6c-78224bd957f7"
      },
      "source": [
        "df['flavor_profile'].unique()"
      ],
      "execution_count": null,
      "outputs": [
        {
          "output_type": "execute_result",
          "data": {
            "text/plain": [
              "array(['sweet', 'spicy', 'bitter', 'tasteless', 'sour'], dtype=object)"
            ]
          },
          "metadata": {
            "tags": []
          },
          "execution_count": 65
        }
      ]
    },
    {
      "cell_type": "code",
      "metadata": {
        "colab": {
          "base_uri": "https://localhost:8080/"
        },
        "id": "ShyBRcPNT9gq",
        "outputId": "e1727a27-d5de-44f9-e42a-e50f3b608824"
      },
      "source": [
        "df = df[df['region']!='-1']\r\n",
        "df['region'].unique()"
      ],
      "execution_count": null,
      "outputs": [
        {
          "output_type": "execute_result",
          "data": {
            "text/plain": [
              "array(['East', 'West', 'North', 'North East', 'South', 'Central', nan],\n",
              "      dtype=object)"
            ]
          },
          "metadata": {
            "tags": []
          },
          "execution_count": 66
        }
      ]
    },
    {
      "cell_type": "code",
      "metadata": {
        "colab": {
          "base_uri": "https://localhost:8080/"
        },
        "id": "XexNKoGhUDSs",
        "outputId": "e94c0ef4-cb28-4cbb-a8d6-82f663884c34"
      },
      "source": [
        "df = df[df['flavor_profile']!='-1']\r\n",
        "df['flavor_profile'].unique()"
      ],
      "execution_count": null,
      "outputs": [
        {
          "output_type": "execute_result",
          "data": {
            "text/plain": [
              "array(['sweet', 'spicy', 'bitter', 'tasteless', 'sour'], dtype=object)"
            ]
          },
          "metadata": {
            "tags": []
          },
          "execution_count": 67
        }
      ]
    },
    {
      "cell_type": "code",
      "metadata": {
        "colab": {
          "base_uri": "https://localhost:8080/",
          "height": 348
        },
        "id": "mAWo1smoUEcQ",
        "outputId": "a9698e07-a1f2-48bf-da89-32f19977caa7"
      },
      "source": [
        "df['diet'].value_counts().plot(kind='bar')"
      ],
      "execution_count": null,
      "outputs": [
        {
          "output_type": "execute_result",
          "data": {
            "text/plain": [
              "<matplotlib.axes._subplots.AxesSubplot at 0x7fd3359a0950>"
            ]
          },
          "metadata": {
            "tags": []
          },
          "execution_count": 68
        },
        {
          "output_type": "display_data",
          "data": {
            "image/png": "[encoded data removed]",
            "text/plain": [
              "<Figure size 432x288 with 1 Axes>"
            ]
          },
          "metadata": {
            "tags": [],
            "needs_background": "light"
          }
        }
      ]
    },
    {
      "cell_type": "code",
      "metadata": {
        "colab": {
          "base_uri": "https://localhost:8080/",
          "height": 111
        },
        "id": "M8HUuAMqUJxB",
        "outputId": "c4e1a66c-b934-4855-dc47-2dc00e69e15b"
      },
      "source": [
        "df_grouped=df.groupby('diet')['prep_time'].mean()\r\n",
        "df_grouped.reset_index()"
      ],
      "execution_count": null,
      "outputs": [
        {
          "output_type": "execute_result",
          "data": {
            "text/html": [
              "<div>\n",
              "<style scoped>\n",
              "    .dataframe tbody tr th:only-of-type {\n",
              "        vertical-align: middle;\n",
              "    }\n",
              "\n",
              "    .dataframe tbody tr th {\n",
              "        vertical-align: top;\n",
              "    }\n",
              "\n",
              "    .dataframe thead th {\n",
              "        text-align: right;\n",
              "    }\n",
              "</style>\n",
              "<table border=\"1\" class=\"dataframe\">\n",
              "  <thead>\n",
              "    <tr style=\"text-align: right;\">\n",
              "      <th></th>\n",
              "      <th>diet</th>\n",
              "      <th>prep_time</th>\n",
              "    </tr>\n",
              "  </thead>\n",
              "  <tbody>\n",
              "    <tr>\n",
              "      <th>0</th>\n",
              "      <td>non vegetarian</td>\n",
              "      <td>27.068966</td>\n",
              "    </tr>\n",
              "    <tr>\n",
              "      <th>1</th>\n",
              "      <td>vegetarian</td>\n",
              "      <td>32.525822</td>\n",
              "    </tr>\n",
              "  </tbody>\n",
              "</table>\n",
              "</div>"
            ],
            "text/plain": [
              "             diet  prep_time\n",
              "0  non vegetarian  27.068966\n",
              "1      vegetarian  32.525822"
            ]
          },
          "metadata": {
            "tags": []
          },
          "execution_count": 69
        }
      ]
    },
    {
      "cell_type": "code",
      "metadata": {
        "colab": {
          "base_uri": "https://localhost:8080/",
          "height": 391
        },
        "id": "LkrnWCDFUTQx",
        "outputId": "ab56952b-b377-48b5-a91b-1c2222be6f5c"
      },
      "source": [
        "df_grouped.plot.pie(subplots=True, figsize=(11, 6))"
      ],
      "execution_count": null,
      "outputs": [
        {
          "output_type": "execute_result",
          "data": {
            "text/plain": [
              "array([<matplotlib.axes._subplots.AxesSubplot object at 0x7fd335829ed0>],\n",
              "      dtype=object)"
            ]
          },
          "metadata": {
            "tags": []
          },
          "execution_count": 71
        },
        {
          "output_type": "display_data",
          "data": {
            "image/png": "[encoded data removed]",
            "text/plain": [
              "<Figure size 792x432 with 1 Axes>"
            ]
          },
          "metadata": {
            "tags": []
          }
        }
      ]
    },
    {
      "cell_type": "code",
      "metadata": {
        "colab": {
          "base_uri": "https://localhost:8080/",
          "height": 111
        },
        "id": "uMH6RzA0UVMN",
        "outputId": "10cf318e-3727-439a-a357-13c0b64be407"
      },
      "source": [
        "df_grouped=df.groupby('diet')['cook_time'].mean()\r\n",
        "df_grouped.reset_index()"
      ],
      "execution_count": null,
      "outputs": [
        {
          "output_type": "execute_result",
          "data": {
            "text/html": [
              "<div>\n",
              "<style scoped>\n",
              "    .dataframe tbody tr th:only-of-type {\n",
              "        vertical-align: middle;\n",
              "    }\n",
              "\n",
              "    .dataframe tbody tr th {\n",
              "        vertical-align: top;\n",
              "    }\n",
              "\n",
              "    .dataframe thead th {\n",
              "        text-align: right;\n",
              "    }\n",
              "</style>\n",
              "<table border=\"1\" class=\"dataframe\">\n",
              "  <thead>\n",
              "    <tr style=\"text-align: right;\">\n",
              "      <th></th>\n",
              "      <th>diet</th>\n",
              "      <th>cook_time</th>\n",
              "    </tr>\n",
              "  </thead>\n",
              "  <tbody>\n",
              "    <tr>\n",
              "      <th>0</th>\n",
              "      <td>non vegetarian</td>\n",
              "      <td>25.862069</td>\n",
              "    </tr>\n",
              "    <tr>\n",
              "      <th>1</th>\n",
              "      <td>vegetarian</td>\n",
              "      <td>36.521127</td>\n",
              "    </tr>\n",
              "  </tbody>\n",
              "</table>\n",
              "</div>"
            ],
            "text/plain": [
              "             diet  cook_time\n",
              "0  non vegetarian  25.862069\n",
              "1      vegetarian  36.521127"
            ]
          },
          "metadata": {
            "tags": []
          },
          "execution_count": 72
        }
      ]
    },
    {
      "cell_type": "code",
      "metadata": {
        "colab": {
          "base_uri": "https://localhost:8080/",
          "height": 391
        },
        "id": "ywd0o2vcU7ua",
        "outputId": "a9af41ce-dd44-4a8d-95fb-0a0df86058d0"
      },
      "source": [
        "df_grouped.plot.pie(subplots=True, figsize=(11, 6))"
      ],
      "execution_count": null,
      "outputs": [
        {
          "output_type": "execute_result",
          "data": {
            "text/plain": [
              "array([<matplotlib.axes._subplots.AxesSubplot object at 0x7fd32722e6d0>],\n",
              "      dtype=object)"
            ]
          },
          "metadata": {
            "tags": []
          },
          "execution_count": 73
        },
        {
          "output_type": "display_data",
          "data": {
            "image/png": "[encoded data removed]",
            "text/plain": [
              "<Figure size 792x432 with 1 Axes>"
            ]
          },
          "metadata": {
            "tags": []
          }
        }
      ]
    },
    {
      "cell_type": "code",
      "metadata": {
        "colab": {
          "base_uri": "https://localhost:8080/"
        },
        "id": "DgF6EQxQVDfd",
        "outputId": "f2c991fd-d4cc-4004-f0c3-bb91d739f3bd"
      },
      "source": [
        "df['ingredients'].isnull().values.any()"
      ],
      "execution_count": null,
      "outputs": [
        {
          "output_type": "execute_result",
          "data": {
            "text/plain": [
              "False"
            ]
          },
          "metadata": {
            "tags": []
          },
          "execution_count": 74
        }
      ]
    },
    {
      "cell_type": "code",
      "metadata": {
        "id": "_cyPy2T_VKS7",
        "colab": {
          "base_uri": "https://localhost:8080/",
          "height": 168
        },
        "outputId": "4fcd5a77-e9d3-43e7-e685-f7b2f1736759"
      },
      "source": [
        "# Sort the dataframe and select the top row\r\n",
        "import pandas as pd\r\n",
        "df = pd.read_csv('indian_food.csv')\r\n",
        "sorted = df.sort_values(['cook_time'], ascending=True)\r\n",
        "sorted.head(1)"
      ],
      "execution_count": 6,
      "outputs": [
        {
          "output_type": "execute_result",
          "data": {
            "text/html": [
              "<div>\n",
              "<style scoped>\n",
              "    .dataframe tbody tr th:only-of-type {\n",
              "        vertical-align: middle;\n",
              "    }\n",
              "\n",
              "    .dataframe tbody tr th {\n",
              "        vertical-align: top;\n",
              "    }\n",
              "\n",
              "    .dataframe thead th {\n",
              "        text-align: right;\n",
              "    }\n",
              "</style>\n",
              "<table border=\"1\" class=\"dataframe\">\n",
              "  <thead>\n",
              "    <tr style=\"text-align: right;\">\n",
              "      <th></th>\n",
              "      <th>name</th>\n",
              "      <th>ingredients</th>\n",
              "      <th>diet</th>\n",
              "      <th>prep_time</th>\n",
              "      <th>cook_time</th>\n",
              "      <th>flavor_profile</th>\n",
              "      <th>course</th>\n",
              "      <th>state</th>\n",
              "      <th>region</th>\n",
              "    </tr>\n",
              "  </thead>\n",
              "  <tbody>\n",
              "    <tr>\n",
              "      <th>254</th>\n",
              "      <td>Pinaca</td>\n",
              "      <td>Brown rice, fennel seeds, grated coconut, blac...</td>\n",
              "      <td>vegetarian</td>\n",
              "      <td>-1</td>\n",
              "      <td>-1</td>\n",
              "      <td>sweet</td>\n",
              "      <td>dessert</td>\n",
              "      <td>Goa</td>\n",
              "      <td>West</td>\n",
              "    </tr>\n",
              "  </tbody>\n",
              "</table>\n",
              "</div>"
            ],
            "text/plain": [
              "       name                                        ingredients  ... state  region\n",
              "254  Pinaca  Brown rice, fennel seeds, grated coconut, blac...  ...   Goa    West\n",
              "\n",
              "[1 rows x 9 columns]"
            ]
          },
          "metadata": {
            "tags": []
          },
          "execution_count": 6
        }
      ]
    },
    {
      "cell_type": "code",
      "metadata": {
        "colab": {
          "base_uri": "https://localhost:8080/",
          "height": 513
        },
        "id": "nkfIjZNp-FFK",
        "outputId": "d958fdac-5c50-4a24-a48e-b4a3a9f6dd44"
      },
      "source": [
        "df.tail()"
      ],
      "execution_count": 7,
      "outputs": [
        {
          "output_type": "execute_result",
          "data": {
            "text/html": [
              "<div>\n",
              "<style scoped>\n",
              "    .dataframe tbody tr th:only-of-type {\n",
              "        vertical-align: middle;\n",
              "    }\n",
              "\n",
              "    .dataframe tbody tr th {\n",
              "        vertical-align: top;\n",
              "    }\n",
              "\n",
              "    .dataframe thead th {\n",
              "        text-align: right;\n",
              "    }\n",
              "</style>\n",
              "<table border=\"1\" class=\"dataframe\">\n",
              "  <thead>\n",
              "    <tr style=\"text-align: right;\">\n",
              "      <th></th>\n",
              "      <th>name</th>\n",
              "      <th>ingredients</th>\n",
              "      <th>diet</th>\n",
              "      <th>prep_time</th>\n",
              "      <th>cook_time</th>\n",
              "      <th>flavor_profile</th>\n",
              "      <th>course</th>\n",
              "      <th>state</th>\n",
              "      <th>region</th>\n",
              "    </tr>\n",
              "  </thead>\n",
              "  <tbody>\n",
              "    <tr>\n",
              "      <th>250</th>\n",
              "      <td>Til Pitha</td>\n",
              "      <td>Glutinous rice, black sesame seeds, gur</td>\n",
              "      <td>vegetarian</td>\n",
              "      <td>5</td>\n",
              "      <td>30</td>\n",
              "      <td>sweet</td>\n",
              "      <td>dessert</td>\n",
              "      <td>Assam</td>\n",
              "      <td>North East</td>\n",
              "    </tr>\n",
              "    <tr>\n",
              "      <th>251</th>\n",
              "      <td>Bebinca</td>\n",
              "      <td>Coconut milk, egg yolks, clarified butter, all...</td>\n",
              "      <td>vegetarian</td>\n",
              "      <td>20</td>\n",
              "      <td>60</td>\n",
              "      <td>sweet</td>\n",
              "      <td>dessert</td>\n",
              "      <td>Goa</td>\n",
              "      <td>West</td>\n",
              "    </tr>\n",
              "    <tr>\n",
              "      <th>252</th>\n",
              "      <td>Shufta</td>\n",
              "      <td>Cottage cheese, dry dates, dried rose petals, ...</td>\n",
              "      <td>vegetarian</td>\n",
              "      <td>-1</td>\n",
              "      <td>-1</td>\n",
              "      <td>sweet</td>\n",
              "      <td>dessert</td>\n",
              "      <td>Jammu &amp; Kashmir</td>\n",
              "      <td>North</td>\n",
              "    </tr>\n",
              "    <tr>\n",
              "      <th>253</th>\n",
              "      <td>Mawa Bati</td>\n",
              "      <td>Milk powder, dry fruits, arrowroot powder, all...</td>\n",
              "      <td>vegetarian</td>\n",
              "      <td>20</td>\n",
              "      <td>45</td>\n",
              "      <td>sweet</td>\n",
              "      <td>dessert</td>\n",
              "      <td>Madhya Pradesh</td>\n",
              "      <td>Central</td>\n",
              "    </tr>\n",
              "    <tr>\n",
              "      <th>254</th>\n",
              "      <td>Pinaca</td>\n",
              "      <td>Brown rice, fennel seeds, grated coconut, blac...</td>\n",
              "      <td>vegetarian</td>\n",
              "      <td>-1</td>\n",
              "      <td>-1</td>\n",
              "      <td>sweet</td>\n",
              "      <td>dessert</td>\n",
              "      <td>Goa</td>\n",
              "      <td>West</td>\n",
              "    </tr>\n",
              "  </tbody>\n",
              "</table>\n",
              "</div>"
            ],
            "text/plain": [
              "          name  ...      region\n",
              "250  Til Pitha  ...  North East\n",
              "251    Bebinca  ...        West\n",
              "252     Shufta  ...       North\n",
              "253  Mawa Bati  ...     Central\n",
              "254     Pinaca  ...        West\n",
              "\n",
              "[5 rows x 9 columns]"
            ]
          },
          "metadata": {
            "tags": []
          },
          "execution_count": 7
        }
      ]
    },
    {
      "cell_type": "code",
      "metadata": {
        "colab": {
          "base_uri": "https://localhost:8080/"
        },
        "id": "PWv74ok395Ug",
        "outputId": "3c440e73-3e40-4c9b-8d30-1db9520e15b4"
      },
      "source": [
        "df['name'].unique()"
      ],
      "execution_count": 8,
      "outputs": [
        {
          "output_type": "execute_result",
          "data": {
            "text/plain": [
              "array(['Balu shahi', 'Boondi', 'Gajar ka halwa', 'Ghevar', 'Gulab jamun',\n",
              "       'Imarti', 'Jalebi', 'Kaju katli', 'Kalakand', 'Kheer', 'Laddu',\n",
              "       'Lassi', 'Nankhatai', 'Petha', 'Phirni', 'Rabri', 'Sheera',\n",
              "       'Singori', 'Sohan halwa', 'Sohan papdi', 'Chhena jalebi',\n",
              "       'Chhena kheeri', 'Chhena poda', 'Cham cham', 'Kheer sagar',\n",
              "       'Ledikeni', 'Lyangcha', 'Malapua', 'Mihidana', 'Misti doi',\n",
              "       'Pantua', 'Pithe', 'Rasabali', 'Ras malai', 'Rasgulla', 'Sandesh',\n",
              "       'Adhirasam', 'Ariselu', 'Bandar laddu', 'Chikki', 'Dharwad pedha',\n",
              "       'Double ka meetha', 'Gavvalu', 'Kakinada khaja', 'Kuzhi paniyaram',\n",
              "       'Mysore pak', 'Obbattu holige', 'Palathalikalu', 'Poornalu',\n",
              "       'Pongal', 'Pootharekulu', 'Qubani ka meetha', 'Sheer korma',\n",
              "       'Unni Appam', 'Kajjikaya', 'Anarsa', 'Basundi', 'Dhondas',\n",
              "       'Doodhpak', 'Mahim halwa', 'Modak', 'Shankarpali', 'Shrikhand',\n",
              "       'Sutar feni', 'Maach Jhol', 'Pork Bharta', 'Chak Hao Kheer',\n",
              "       'Galho', 'Aloo gobi', 'Aloo tikki', 'Aloo matar', 'Aloo methi',\n",
              "       'Aloo shimla mirch', 'Bhatura', 'Bhindi masala', 'Biryani',\n",
              "       'Butter chicken', 'Chana masala', 'Chapati', 'Chicken razala',\n",
              "       'Chicken Tikka masala', 'Chicken Tikka', 'Chole bhature',\n",
              "       'Daal baati churma', 'Daal puri', 'Dal makhani ', 'Dal tadka',\n",
              "       'Dum aloo', 'Poha', 'Fara', 'Kachori', 'Kadai paneer',\n",
              "       'Kadhi pakoda', 'Karela bharta', 'Khichdi', 'Kofta',\n",
              "       'Kulfi falooda', 'Lauki ke kofte', 'Lauki ki subji',\n",
              "       'Litti chokha', 'Makki di roti sarson da saag', 'Misi roti',\n",
              "       'Mushroom do pyaza', 'Mushroom matar', 'Naan', 'Navrattan korma',\n",
              "       'Palak paneer', 'Paneer butter masala', 'Paneer tikka masala',\n",
              "       'Pani puri', 'Panjeeri', 'Papad', 'Paratha', 'Pattor',\n",
              "       'Pindi chana', 'Rajma chaval', 'Rongi', 'Samosa', 'Sattu ki roti',\n",
              "       'Shahi paneer', 'Shahi tukra', 'Vegetable jalfrezi',\n",
              "       'Tandoori Chicken', 'Tandoori Fish Tikka', 'Attu', 'Avial',\n",
              "       'Bisi bele bath', 'Currivepillai sadam ', 'Dosa', 'Idiappam',\n",
              "       'Idli', 'Kanji', 'Kaara kozhambu', 'Keerai kootu',\n",
              "       'Keerai masiyal', 'Keerai sadam', 'Keerai poriyal', 'Beef Fry',\n",
              "       'Kootu', 'Kos kootu', 'Koshambri', 'Kothamali sadam',\n",
              "       'Kuzhakkattai', 'Kuzhambu', 'Masala Dosa', 'Pachadi', 'Paniyaram',\n",
              "       'Papadum', 'Paravannam', 'Payasam', 'Paruppu sadam', 'Pesarattu',\n",
              "       'Poriyal', 'Puli sadam', 'Rasam', 'Puttu', 'Sambar', 'Sandige',\n",
              "       'Sevai', 'Thayir sadam', 'Theeyal', 'Uttapam', 'Vada',\n",
              "       'Chicken Varuval', 'Upma', 'Amti', 'Zunka', 'Kolim Jawla', 'Saath',\n",
              "       'Bajri no rotlo', 'Coconut vadi', 'Bhakri', 'Bombil fry',\n",
              "       'Chakali', 'Chevdo', 'Chorafali', 'Copra paak', 'Daal Dhokli',\n",
              "       'Kutchi dabeli', 'Dahi vada', 'Dalithoy', 'Dhokla', 'Dudhi halwa',\n",
              "       'Gatta curry', 'Gud papdi', 'Ghooghra', 'Handwo', 'Halvasan',\n",
              "       'Jeera Aloo', 'Kansar', 'Keri no ras', 'Khakhra', 'Khandvi',\n",
              "       'Kombdi vade', 'Laapsi', 'Koshimbir', 'Methi na Gota', 'Mohanthal',\n",
              "       'Muthiya', 'Patra', 'Pav Bhaji', 'Puri Bhaji', 'Sabudana Khichadi',\n",
              "       'Sev khamani', 'Sev tameta', 'Namakpara', 'Sukhdi', 'Surnoli',\n",
              "       'Thalipeeth', 'Undhiyu', 'Veg Kolhapuri', 'Vindaloo',\n",
              "       'Lilva Kachori', 'Mag Dhokli', 'Khichu', 'Thepla', 'Farsi Puri',\n",
              "       'Khaman', 'Turiya Patra Vatana sabji', 'Churma Ladoo',\n",
              "       'Cheera Doi', 'Gheela Pitha', 'Khar', 'Kumol Sawul', 'Luchi',\n",
              "       'Alu Pitika', 'Masor tenga', 'Bengena Pitika', 'Bilahi Maas',\n",
              "       'Black rice', 'Bora Sawul', 'Brown Rice', 'Chingri malai curry',\n",
              "       'Goja', 'Hando Guri', 'Haq Maas', 'Chingri Bhape', 'Kabiraji',\n",
              "       'Khorisa', 'Koldil Chicken', 'Konir Dom', 'Koldil Duck',\n",
              "       'Masor Koni', 'Mishti Chholar Dal', 'Pakhala', 'Pani Pitha',\n",
              "       'Payokh', 'Prawn malai curry', 'Red Rice', 'Shukto', 'Til Pitha',\n",
              "       'Bebinca', 'Shufta', 'Mawa Bati', 'Pinaca'], dtype=object)"
            ]
          },
          "metadata": {
            "tags": []
          },
          "execution_count": 8
        }
      ]
    },
    {
      "cell_type": "code",
      "metadata": {
        "colab": {
          "base_uri": "https://localhost:8080/"
        },
        "id": "dZylqcK0-rKv",
        "outputId": "0567cff9-b13a-4afd-9315-e1d4e56e940a"
      },
      "source": [
        "# If you actually want to print the unique values:\r\n",
        "for x in df['name'].unique():\r\n",
        "    print(x)"
      ],
      "execution_count": 9,
      "outputs": [
        {
          "output_type": "stream",
          "text": [
            "Balu shahi\n",
            "Boondi\n",
            "Gajar ka halwa\n",
            "Ghevar\n",
            "Gulab jamun\n",
            "Imarti\n",
            "Jalebi\n",
            "Kaju katli\n",
            "Kalakand\n",
            "Kheer\n",
            "Laddu\n",
            "Lassi\n",
            "Nankhatai\n",
            "Petha\n",
            "Phirni\n",
            "Rabri\n",
            "Sheera\n",
            "Singori\n",
            "Sohan halwa\n",
            "Sohan papdi\n",
            "Chhena jalebi\n",
            "Chhena kheeri\n",
            "Chhena poda\n",
            "Cham cham\n",
            "Kheer sagar\n",
            "Ledikeni\n",
            "Lyangcha\n",
            "Malapua\n",
            "Mihidana\n",
            "Misti doi\n",
            "Pantua\n",
            "Pithe\n",
            "Rasabali\n",
            "Ras malai\n",
            "Rasgulla\n",
            "Sandesh\n",
            "Adhirasam\n",
            "Ariselu\n",
            "Bandar laddu\n",
            "Chikki\n",
            "Dharwad pedha\n",
            "Double ka meetha\n",
            "Gavvalu\n",
            "Kakinada khaja\n",
            "Kuzhi paniyaram\n",
            "Mysore pak\n",
            "Obbattu holige\n",
            "Palathalikalu\n",
            "Poornalu\n",
            "Pongal\n",
            "Pootharekulu\n",
            "Qubani ka meetha\n",
            "Sheer korma\n",
            "Unni Appam\n",
            "Kajjikaya\n",
            "Anarsa\n",
            "Basundi\n",
            "Dhondas\n",
            "Doodhpak\n",
            "Mahim halwa\n",
            "Modak\n",
            "Shankarpali\n",
            "Shrikhand\n",
            "Sutar feni\n",
            "Maach Jhol\n",
            "Pork Bharta\n",
            "Chak Hao Kheer\n",
            "Galho\n",
            "Aloo gobi\n",
            "Aloo tikki\n",
            "Aloo matar\n",
            "Aloo methi\n",
            "Aloo shimla mirch\n",
            "Bhatura\n",
            "Bhindi masala\n",
            "Biryani\n",
            "Butter chicken\n",
            "Chana masala\n",
            "Chapati\n",
            "Chicken razala\n",
            "Chicken Tikka masala\n",
            "Chicken Tikka\n",
            "Chole bhature\n",
            "Daal baati churma\n",
            "Daal puri\n",
            "Dal makhani \n",
            "Dal tadka\n",
            "Dum aloo\n",
            "Poha\n",
            "Fara\n",
            "Kachori\n",
            "Kadai paneer\n",
            "Kadhi pakoda\n",
            "Karela bharta\n",
            "Khichdi\n",
            "Kofta\n",
            "Kulfi falooda\n",
            "Lauki ke kofte\n",
            "Lauki ki subji\n",
            "Litti chokha\n",
            "Makki di roti sarson da saag\n",
            "Misi roti\n",
            "Mushroom do pyaza\n",
            "Mushroom matar\n",
            "Naan\n",
            "Navrattan korma\n",
            "Palak paneer\n",
            "Paneer butter masala\n",
            "Paneer tikka masala\n",
            "Pani puri\n",
            "Panjeeri\n",
            "Papad\n",
            "Paratha\n",
            "Pattor\n",
            "Pindi chana\n",
            "Rajma chaval\n",
            "Rongi\n",
            "Samosa\n",
            "Sattu ki roti\n",
            "Shahi paneer\n",
            "Shahi tukra\n",
            "Vegetable jalfrezi\n",
            "Tandoori Chicken\n",
            "Tandoori Fish Tikka\n",
            "Attu\n",
            "Avial\n",
            "Bisi bele bath\n",
            "Currivepillai sadam \n",
            "Dosa\n",
            "Idiappam\n",
            "Idli\n",
            "Kanji\n",
            "Kaara kozhambu\n",
            "Keerai kootu\n",
            "Keerai masiyal\n",
            "Keerai sadam\n",
            "Keerai poriyal\n",
            "Beef Fry\n",
            "Kootu\n",
            "Kos kootu\n",
            "Koshambri\n",
            "Kothamali sadam\n",
            "Kuzhakkattai\n",
            "Kuzhambu\n",
            "Masala Dosa\n",
            "Pachadi\n",
            "Paniyaram\n",
            "Papadum\n",
            "Paravannam\n",
            "Payasam\n",
            "Paruppu sadam\n",
            "Pesarattu\n",
            "Poriyal\n",
            "Puli sadam\n",
            "Rasam\n",
            "Puttu\n",
            "Sambar\n",
            "Sandige\n",
            "Sevai\n",
            "Thayir sadam\n",
            "Theeyal\n",
            "Uttapam\n",
            "Vada\n",
            "Chicken Varuval\n",
            "Upma\n",
            "Amti\n",
            "Zunka\n",
            "Kolim Jawla\n",
            "Saath\n",
            "Bajri no rotlo\n",
            "Coconut vadi\n",
            "Bhakri\n",
            "Bombil fry\n",
            "Chakali\n",
            "Chevdo\n",
            "Chorafali\n",
            "Copra paak\n",
            "Daal Dhokli\n",
            "Kutchi dabeli\n",
            "Dahi vada\n",
            "Dalithoy\n",
            "Dhokla\n",
            "Dudhi halwa\n",
            "Gatta curry\n",
            "Gud papdi\n",
            "Ghooghra\n",
            "Handwo\n",
            "Halvasan\n",
            "Jeera Aloo\n",
            "Kansar\n",
            "Keri no ras\n",
            "Khakhra\n",
            "Khandvi\n",
            "Kombdi vade\n",
            "Laapsi\n",
            "Koshimbir\n",
            "Methi na Gota\n",
            "Mohanthal\n",
            "Muthiya\n",
            "Patra\n",
            "Pav Bhaji\n",
            "Puri Bhaji\n",
            "Sabudana Khichadi\n",
            "Sev khamani\n",
            "Sev tameta\n",
            "Namakpara\n",
            "Sukhdi\n",
            "Surnoli\n",
            "Thalipeeth\n",
            "Undhiyu\n",
            "Veg Kolhapuri\n",
            "Vindaloo\n",
            "Lilva Kachori\n",
            "Mag Dhokli\n",
            "Khichu\n",
            "Thepla\n",
            "Farsi Puri\n",
            "Khaman\n",
            "Turiya Patra Vatana sabji\n",
            "Churma Ladoo\n",
            "Cheera Doi\n",
            "Gheela Pitha\n",
            "Khar\n",
            "Kumol Sawul\n",
            "Luchi\n",
            "Alu Pitika\n",
            "Masor tenga\n",
            "Bengena Pitika\n",
            "Bilahi Maas\n",
            "Black rice\n",
            "Bora Sawul\n",
            "Brown Rice\n",
            "Chingri malai curry\n",
            "Goja\n",
            "Hando Guri\n",
            "Haq Maas\n",
            "Chingri Bhape\n",
            "Kabiraji\n",
            "Khorisa\n",
            "Koldil Chicken\n",
            "Konir Dom\n",
            "Koldil Duck\n",
            "Masor Koni\n",
            "Mishti Chholar Dal\n",
            "Pakhala\n",
            "Pani Pitha\n",
            "Payokh\n",
            "Prawn malai curry\n",
            "Red Rice\n",
            "Shukto\n",
            "Til Pitha\n",
            "Bebinca\n",
            "Shufta\n",
            "Mawa Bati\n",
            "Pinaca\n"
          ],
          "name": "stdout"
        }
      ]
    },
    {
      "cell_type": "code",
      "metadata": {
        "id": "phTPxfX7-vEt"
      },
      "source": [
        "df.groupby?"
      ],
      "execution_count": 10,
      "outputs": []
    },
    {
      "cell_type": "code",
      "metadata": {
        "colab": {
          "base_uri": "https://localhost:8080/",
          "height": 1000
        },
        "id": "6un5hOND-4l0",
        "outputId": "a88c417e-2d5e-426f-a40f-de5f9dcb13da"
      },
      "source": [
        "# Create graph\r\n",
        "df['cook_time'].plot.bar()\r\n",
        "\r\n",
        "print(\"The most popular cook_time\")\r\n",
        "df.sort_values(by='cook_time', ascending=False)"
      ],
      "execution_count": 11,
      "outputs": [
        {
          "output_type": "stream",
          "text": [
            "The most popular cook_time\n"
          ],
          "name": "stdout"
        },
        {
          "output_type": "execute_result",
          "data": {
            "text/html": [
              "<div>\n",
              "<style scoped>\n",
              "    .dataframe tbody tr th:only-of-type {\n",
              "        vertical-align: middle;\n",
              "    }\n",
              "\n",
              "    .dataframe tbody tr th {\n",
              "        vertical-align: top;\n",
              "    }\n",
              "\n",
              "    .dataframe thead th {\n",
              "        text-align: right;\n",
              "    }\n",
              "</style>\n",
              "<table border=\"1\" class=\"dataframe\">\n",
              "  <thead>\n",
              "    <tr style=\"text-align: right;\">\n",
              "      <th></th>\n",
              "      <th>name</th>\n",
              "      <th>ingredients</th>\n",
              "      <th>diet</th>\n",
              "      <th>prep_time</th>\n",
              "      <th>cook_time</th>\n",
              "      <th>flavor_profile</th>\n",
              "      <th>course</th>\n",
              "      <th>state</th>\n",
              "      <th>region</th>\n",
              "    </tr>\n",
              "  </thead>\n",
              "  <tbody>\n",
              "    <tr>\n",
              "      <th>62</th>\n",
              "      <td>Shrikhand</td>\n",
              "      <td>Curd, sugar, saffron, cardamom</td>\n",
              "      <td>vegetarian</td>\n",
              "      <td>10</td>\n",
              "      <td>720</td>\n",
              "      <td>sweet</td>\n",
              "      <td>dessert</td>\n",
              "      <td>Maharashtra</td>\n",
              "      <td>West</td>\n",
              "    </tr>\n",
              "    <tr>\n",
              "      <th>27</th>\n",
              "      <td>Malapua</td>\n",
              "      <td>Yoghurt, refined flour, ghee, fennel seeds</td>\n",
              "      <td>vegetarian</td>\n",
              "      <td>10</td>\n",
              "      <td>120</td>\n",
              "      <td>sweet</td>\n",
              "      <td>dessert</td>\n",
              "      <td>Bihar</td>\n",
              "      <td>North</td>\n",
              "    </tr>\n",
              "    <tr>\n",
              "      <th>75</th>\n",
              "      <td>Biryani</td>\n",
              "      <td>Chicken thighs, basmati rice, star anise, swee...</td>\n",
              "      <td>non vegetarian</td>\n",
              "      <td>30</td>\n",
              "      <td>120</td>\n",
              "      <td>spicy</td>\n",
              "      <td>main course</td>\n",
              "      <td>Telangana</td>\n",
              "      <td>South</td>\n",
              "    </tr>\n",
              "    <tr>\n",
              "      <th>114</th>\n",
              "      <td>Pindi chana</td>\n",
              "      <td>Fennel, tea bags, tomato, kasuri methi, cinnamon</td>\n",
              "      <td>vegetarian</td>\n",
              "      <td>500</td>\n",
              "      <td>120</td>\n",
              "      <td>spicy</td>\n",
              "      <td>main course</td>\n",
              "      <td>Punjab</td>\n",
              "      <td>North</td>\n",
              "    </tr>\n",
              "    <tr>\n",
              "      <th>34</th>\n",
              "      <td>Rasgulla</td>\n",
              "      <td>Chhena, sugar, cardamom</td>\n",
              "      <td>vegetarian</td>\n",
              "      <td>10</td>\n",
              "      <td>90</td>\n",
              "      <td>sweet</td>\n",
              "      <td>dessert</td>\n",
              "      <td>West Bengal</td>\n",
              "      <td>East</td>\n",
              "    </tr>\n",
              "    <tr>\n",
              "      <th>...</th>\n",
              "      <td>...</td>\n",
              "      <td>...</td>\n",
              "      <td>...</td>\n",
              "      <td>...</td>\n",
              "      <td>...</td>\n",
              "      <td>...</td>\n",
              "      <td>...</td>\n",
              "      <td>...</td>\n",
              "      <td>...</td>\n",
              "    </tr>\n",
              "    <tr>\n",
              "      <th>65</th>\n",
              "      <td>Pork Bharta</td>\n",
              "      <td>Boiled pork, onions, chillies, ginger and garlic</td>\n",
              "      <td>non vegetarian</td>\n",
              "      <td>-1</td>\n",
              "      <td>-1</td>\n",
              "      <td>spicy</td>\n",
              "      <td>main course</td>\n",
              "      <td>Tripura</td>\n",
              "      <td>North East</td>\n",
              "    </tr>\n",
              "    <tr>\n",
              "      <th>223</th>\n",
              "      <td>Kumol Sawul</td>\n",
              "      <td>Rice, eggs, carrot, beetroot</td>\n",
              "      <td>non vegetarian</td>\n",
              "      <td>-1</td>\n",
              "      <td>-1</td>\n",
              "      <td>spicy</td>\n",
              "      <td>main course</td>\n",
              "      <td>Assam</td>\n",
              "      <td>North East</td>\n",
              "    </tr>\n",
              "    <tr>\n",
              "      <th>220</th>\n",
              "      <td>Cheera Doi</td>\n",
              "      <td>Rice, mango, curd</td>\n",
              "      <td>vegetarian</td>\n",
              "      <td>-1</td>\n",
              "      <td>-1</td>\n",
              "      <td>sweet</td>\n",
              "      <td>dessert</td>\n",
              "      <td>West Bengal</td>\n",
              "      <td>East</td>\n",
              "    </tr>\n",
              "    <tr>\n",
              "      <th>213</th>\n",
              "      <td>Mag Dhokli</td>\n",
              "      <td>Moong beans, jaggery, red chillies, oil, salt</td>\n",
              "      <td>vegetarian</td>\n",
              "      <td>-1</td>\n",
              "      <td>-1</td>\n",
              "      <td>spicy</td>\n",
              "      <td>snack</td>\n",
              "      <td>Gujarat</td>\n",
              "      <td>West</td>\n",
              "    </tr>\n",
              "    <tr>\n",
              "      <th>254</th>\n",
              "      <td>Pinaca</td>\n",
              "      <td>Brown rice, fennel seeds, grated coconut, blac...</td>\n",
              "      <td>vegetarian</td>\n",
              "      <td>-1</td>\n",
              "      <td>-1</td>\n",
              "      <td>sweet</td>\n",
              "      <td>dessert</td>\n",
              "      <td>Goa</td>\n",
              "      <td>West</td>\n",
              "    </tr>\n",
              "  </tbody>\n",
              "</table>\n",
              "<p>255 rows × 9 columns</p>\n",
              "</div>"
            ],
            "text/plain": [
              "            name  ...      region\n",
              "62     Shrikhand  ...        West\n",
              "27       Malapua  ...       North\n",
              "75       Biryani  ...       South\n",
              "114  Pindi chana  ...       North\n",
              "34      Rasgulla  ...        East\n",
              "..           ...  ...         ...\n",
              "65   Pork Bharta  ...  North East\n",
              "223  Kumol Sawul  ...  North East\n",
              "220   Cheera Doi  ...        East\n",
              "213   Mag Dhokli  ...        West\n",
              "254       Pinaca  ...        West\n",
              "\n",
              "[255 rows x 9 columns]"
            ]
          },
          "metadata": {
            "tags": []
          },
          "execution_count": 11
        },
        {
          "output_type": "display_data",
          "data": {
            "image/png": "[encoded data removed]",
            "text/plain": [
              "<Figure size 432x288 with 1 Axes>"
            ]
          },
          "metadata": {
            "tags": [],
            "needs_background": "light"
          }
        }
      ]
    },
    {
      "cell_type": "code",
      "metadata": {
        "id": "pODHmvpt_OZ-"
      },
      "source": [
        ""
      ],
      "execution_count": null,
      "outputs": []
    },
    {
      "cell_type": "markdown",
      "metadata": {
        "id": "vHvLTZyrRuYM"
      },
      "source": [
        "**1.Interpreting the taste palette**"
      ]
    },
    {
      "cell_type": "code",
      "metadata": {
        "colab": {
          "base_uri": "https://localhost:8080/",
          "height": 344
        },
        "id": "t2080berRZlx",
        "outputId": "23324620-6971-4ea6-d1e4-febdec74044d"
      },
      "source": [
        "import pandas as pd\r\n",
        "import numpy as np\r\n",
        "import seaborn as sns\r\n",
        "import matplotlib.pyplot as plt\r\n",
        "\r\n",
        "df['flavor_profile']=df['flavor_profile'].replace(['-1'],'tasteless')\r\n",
        "plt.figure(figsize=(15,5))\r\n",
        "plt.title(\"Taste palette\")\r\n",
        "sns.countplot(df['flavor_profile'])\r\n",
        "plt.show()"
      ],
      "execution_count": null,
      "outputs": [
        {
          "output_type": "stream",
          "text": [
            "/usr/local/lib/python3.7/dist-packages/seaborn/_decorators.py:43: FutureWarning: Pass the following variable as a keyword arg: x. From version 0.12, the only valid positional argument will be `data`, and passing other arguments without an explicit keyword will result in an error or misinterpretation.\n",
            "  FutureWarning\n"
          ],
          "name": "stderr"
        },
        {
          "output_type": "display_data",
          "data": {
            "image/png": "[encoded data removed]",
            "text/plain": [
              "<Figure size 1080x360 with 1 Axes>"
            ]
          },
          "metadata": {
            "tags": [],
            "needs_background": "light"
          }
        }
      ]
    },
    {
      "cell_type": "markdown",
      "metadata": {
        "id": "D6-KUP-kSKSR"
      },
      "source": [
        "**2. Vegetarians Or Non-Vegeterians??**"
      ]
    },
    {
      "cell_type": "code",
      "metadata": {
        "colab": {
          "base_uri": "https://localhost:8080/",
          "height": 404
        },
        "id": "btQzSnKhSOrF",
        "outputId": "d7060f0b-4b9c-44cc-ad91-fccd62fa647f"
      },
      "source": [
        "plt.figure(figsize=(15,5))\r\n",
        "plt.title(\"Veg/Non-veg\")\r\n",
        "sns.countplot(df['diet'],color='maroon')\r\n",
        "plt.show()"
      ],
      "execution_count": null,
      "outputs": [
        {
          "output_type": "stream",
          "text": [
            "/usr/local/lib/python3.7/dist-packages/seaborn/_decorators.py:43: FutureWarning: Pass the following variable as a keyword arg: x. From version 0.12, the only valid positional argument will be `data`, and passing other arguments without an explicit keyword will result in an error or misinterpretation.\n",
            "  FutureWarning\n"
          ],
          "name": "stderr"
        },
        {
          "output_type": "display_data",
          "data": {
            "image/png": "[encoded data removed]",
            "text/plain": [
              "<Figure size 1080x360 with 1 Axes>"
            ]
          },
          "metadata": {
            "tags": [],
            "needs_background": "light"
          }
        }
      ]
    },
    {
      "cell_type": "markdown",
      "metadata": {
        "id": "xBF5Ybm8SWhL"
      },
      "source": [
        "**3. Preparation time Vs Courses**"
      ]
    },
    {
      "cell_type": "code",
      "metadata": {
        "colab": {
          "base_uri": "https://localhost:8080/",
          "height": 557
        },
        "id": "m9tNzrwISYAN",
        "outputId": "7275190a-d142-44a4-e040-74633f820107"
      },
      "source": [
        "plt.figure(figsize=(20,10))\r\n",
        "sns.countplot(x=df['course'], hue=df['cook_time'], dodge=True)"
      ],
      "execution_count": null,
      "outputs": [
        {
          "output_type": "execute_result",
          "data": {
            "text/plain": [
              "<matplotlib.axes._subplots.AxesSubplot at 0x7fd335a12350>"
            ]
          },
          "metadata": {
            "tags": []
          },
          "execution_count": 63
        },
        {
          "output_type": "display_data",
          "data": {
            "image/png": "[encoded data removed]",
            "text/plain": [
              "<Figure size 1440x720 with 1 Axes>"
            ]
          },
          "metadata": {
            "tags": [],
            "needs_background": "light"
          }
        }
      ]
    }
  ]
}